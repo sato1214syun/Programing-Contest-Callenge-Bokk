{
 "cells": [
  {
   "cell_type": "markdown",
   "metadata": {},
   "source": [
    "# 1"
   ]
  },
  {
   "cell_type": "markdown",
   "metadata": {},
   "source": [
    "## 1-1\n",
    "### くじ引き"
   ]
  },
  {
   "cell_type": "code",
   "execution_count": 46,
   "metadata": {},
   "outputs": [],
   "source": [
    "import random\n",
    "\n",
    "ramdom_int_list = [random.randint(1, 1000) for _ in range(1000)]\n",
    "# print(ramdom_int_list)\n"
   ]
  },
  {
   "cell_type": "code",
   "execution_count": 47,
   "metadata": {},
   "outputs": [
    {
     "name": "stdout",
     "output_type": "stream",
     "text": [
      "yes, [795, 795, 79, 331]\n"
     ]
    }
   ],
   "source": [
    "\n",
    "from itertools import product\n",
    "\n",
    "# n = 3\n",
    "# m = 10\n",
    "# k = [1, 3, 5]\n",
    "# n = 3\n",
    "# m = 9\n",
    "# k = [1, 3, 5]\n",
    "n = 100000\n",
    "m = 2000\n",
    "k = ramdom_int_list\n",
    "\n",
    "is_answer_exist = False\n",
    "p = False\n",
    "for a in k:\n",
    "    for b in k:\n",
    "        for c in k:\n",
    "            for d in k:\n",
    "                if a + b + c + d == m:\n",
    "                    is_answer_exist = True\n",
    "                    p = [a, b, c, d]\n",
    "                    break\n",
    "            if is_answer_exist:\n",
    "                break\n",
    "        if is_answer_exist:\n",
    "            break\n",
    "    if is_answer_exist:\n",
    "        break\n",
    "\n",
    "if is_answer_exist:\n",
    "    print(f\"yes, {p}\")\n",
    "else:\n",
    "    print(f\"no\")\n"
   ]
  },
  {
   "cell_type": "markdown",
   "metadata": {},
   "source": [
    "## 1-6\n",
    "### 三角形"
   ]
  },
  {
   "cell_type": "code",
   "execution_count": null,
   "metadata": {},
   "outputs": [],
   "source": [
    "from itertools import combinations\n",
    "\n",
    "# n = 5\n",
    "# a = [2, 3, 4, 5, 10]\n",
    "\n",
    "n = 4\n",
    "a = [4, 5, 10, 20]\n",
    "# |a−b|<c<a+b\n",
    "\n",
    "comb_iter = combinations(a, 3)\n",
    "max_length = 0\n",
    "answer = False\n",
    "for comb in comb_iter:\n",
    "    if abs(comb[0] - comb[1]) < comb[2] and comb[2] < (comb[0] + comb[1]):\n",
    "        if max_length < sum(comb):\n",
    "            max_length = sum(comb)\n",
    "            answer = comb\n",
    "print(max_length, answer)\n"
   ]
  },
  {
   "cell_type": "markdown",
   "metadata": {},
   "source": [
    "### POJの問題#1852 \"Ants\""
   ]
  },
  {
   "cell_type": "code",
   "execution_count": null,
   "metadata": {},
   "outputs": [],
   "source": [
    "L = 10\n",
    "n = 3\n",
    "x = [2, 6, 7]\n",
    "\n",
    "min_list = [min(x_ele, L - x_ele) for x_ele in x]\n",
    "min_time = max(min_list)\n",
    "max_list = [max(x_ele, L - x_ele) for x_ele in x]\n",
    "max_time = max(max_list)\n",
    "\n",
    "print(f\"最小{min_time}sec、最大{max_time}sec\")\n"
   ]
  },
  {
   "attachments": {},
   "cell_type": "markdown",
   "metadata": {},
   "source": [
    "### くじびき $N^3 \\times logN$"
   ]
  },
  {
   "cell_type": "code",
   "execution_count": 48,
   "metadata": {},
   "outputs": [
    {
     "name": "stdout",
     "output_type": "stream",
     "text": [
      "yes, [795, 795, 79, 331]\n"
     ]
    }
   ],
   "source": [
    "from itertools import product\n",
    "from bisect import bisect_left\n",
    "\n",
    "# n = 3\n",
    "# m = 10\n",
    "# k = [1, 3, 5]\n",
    "# n = 3\n",
    "# m = 9\n",
    "# k = [1, 3, 5]\n",
    "n = 100000\n",
    "m = 2000\n",
    "k = ramdom_int_list\n",
    "k2 = sorted(ramdom_int_list)\n",
    "\n",
    "\n",
    "def find_value(a, x):\n",
    "    \"Locate the leftmost value exactly equal to x\"\n",
    "    i = bisect_left(a, x)\n",
    "    if i != len(a) and a[i] == x:\n",
    "        return x\n",
    "    else:\n",
    "        return\n",
    "\n",
    "\n",
    "is_answer_exist = False\n",
    "p = False\n",
    "for a in k:\n",
    "    for b in k:\n",
    "        for c in k:\n",
    "            if d := find_value(k2, m - a - b - c):\n",
    "                is_answer_exist = True\n",
    "                p = [a, b, c, d]\n",
    "                break\n",
    "            if is_answer_exist:\n",
    "                break\n",
    "        if is_answer_exist:\n",
    "            break\n",
    "    if is_answer_exist:\n",
    "        break\n",
    "\n",
    "if is_answer_exist:\n",
    "    print(f\"yes, {p}\")\n",
    "else:\n",
    "    print(f\"no\")\n"
   ]
  },
  {
   "attachments": {},
   "cell_type": "markdown",
   "metadata": {},
   "source": [
    "### くじびき $N^2 \\times logN$"
   ]
  },
  {
   "cell_type": "code",
   "execution_count": 49,
   "metadata": {},
   "outputs": [
    {
     "name": "stdout",
     "output_type": "stream",
     "text": [
      "yes, [795, 795, 410]\n"
     ]
    }
   ],
   "source": [
    "from itertools import product\n",
    "from bisect import bisect_left\n",
    "\n",
    "# n = 3\n",
    "# m = 10\n",
    "# k = [1, 3, 5]\n",
    "# n = 3\n",
    "# m = 9\n",
    "# k = [1, 3, 5]\n",
    "n = 100000\n",
    "m = 2000\n",
    "k = ramdom_int_list\n",
    "\n",
    "\n",
    "def find_value(a, x):\n",
    "    \"Locate the leftmost value exactly equal to x\"\n",
    "    i = bisect_left(a, x)\n",
    "    if i != len(a) and a[i] == x:\n",
    "        return x\n",
    "    else:\n",
    "        return\n",
    "\n",
    "\n",
    "# c + dの値を総当たりのリスト\n",
    "cd_sum_list = list(set(sorted([c + d for c, d in product(k, repeat=2)])))\n",
    "\n",
    "is_answer_exist = False\n",
    "p = False\n",
    "for a in k:\n",
    "    for b in k:\n",
    "        if cd_sum := find_value(cd_sum_list, m - a - b):\n",
    "            is_answer_exist = True\n",
    "            p = [a, b, cd_sum]\n",
    "            break\n",
    "    if is_answer_exist:\n",
    "        break\n",
    "\n",
    "if is_answer_exist:\n",
    "    print(f\"yes, {p}\")\n",
    "else:\n",
    "    print(f\"no\")\n"
   ]
  }
 ],
 "metadata": {
  "interpreter": {
   "hash": "380dec80cb7512c0d9d675badb4af99047a8d22526580966454b72e4663db06f"
  },
  "kernelspec": {
   "display_name": "Python 3.10.4 ('.venv': poetry)",
   "language": "python",
   "name": "python3"
  },
  "language_info": {
   "codemirror_mode": {
    "name": "ipython",
    "version": 3
   },
   "file_extension": ".py",
   "mimetype": "text/x-python",
   "name": "python",
   "nbconvert_exporter": "python",
   "pygments_lexer": "ipython3",
   "version": "3.11.3"
  },
  "orig_nbformat": 4
 },
 "nbformat": 4,
 "nbformat_minor": 2
}
