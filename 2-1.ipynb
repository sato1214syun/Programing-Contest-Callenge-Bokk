{
 "cells": [
  {
   "cell_type": "markdown",
   "metadata": {},
   "source": [
    "# 2-1 全探索"
   ]
  },
  {
   "cell_type": "markdown",
   "metadata": {},
   "source": [
    "## フィボナッチ数列"
   ]
  },
  {
   "cell_type": "code",
   "execution_count": null,
   "metadata": {},
   "outputs": [
    {
     "data": {
      "text/plain": [
       "102334155"
      ]
     },
     "metadata": {},
     "output_type": "display_data"
    }
   ],
   "source": [
    "# フィボナッチ数列\n",
    "a0 = 0\n",
    "a1 = 1\n",
    "\n",
    "\n",
    "def fib(n):\n",
    "    if n <= 1:\n",
    "        return n\n",
    "    return fib(n - 1) + fib(n - 2)\n",
    "\n",
    "\n",
    "fib(40)\n"
   ]
  },
  {
   "cell_type": "markdown",
   "metadata": {},
   "source": [
    "## フィボナッチ数列のメモ探索"
   ]
  },
  {
   "cell_type": "code",
   "execution_count": null,
   "metadata": {},
   "outputs": [
    {
     "data": {
      "text/plain": [
       "102334155"
      ]
     },
     "metadata": {},
     "output_type": "display_data"
    }
   ],
   "source": [
    "memo_list = {}\n",
    "\n",
    "\n",
    "def fib(n):\n",
    "    if n <= 1:\n",
    "        return n\n",
    "    if (result := memo_list.get(n)) is not None:\n",
    "        return result\n",
    "    memo_list[n] = fib(n - 1) + fib(n - 2)\n",
    "    return memo_list[n]\n",
    "\n",
    "\n",
    "fib(40)\n"
   ]
  },
  {
   "cell_type": "markdown",
   "metadata": {},
   "source": [
    "## 深さ優先探索(DFS)"
   ]
  },
  {
   "cell_type": "markdown",
   "metadata": {},
   "source": [
    "### 部分和問題"
   ]
  },
  {
   "cell_type": "code",
   "execution_count": null,
   "metadata": {},
   "outputs": [
    {
     "name": "stdout",
     "output_type": "stream",
     "text": [
      "No\n",
      "\n"
     ]
    }
   ],
   "source": [
    "n = 4\n",
    "a = [1, 2, 4, 7]\n",
    "k = 13\n",
    "# k = 15\n",
    "\n",
    "\n",
    "def dfs(i, sum):\n",
    "    # iがn=4の場合、つまり探索の終端に来た場合に値をチェック\n",
    "    if i == n:\n",
    "        return sum == k\n",
    "\n",
    "    # 以下の二つのif文で現在の節から分岐する。\n",
    "    # 1つ目のifは左の分岐、2つ目のifは右の分岐\n",
    "\n",
    "    # a[i]から選ばない場合の処理\n",
    "    # 再帰関数により、終端(10行目のif文)でFalseとなった場合は1つ前の節に戻る\n",
    "    if dfs(i + 1, sum):\n",
    "        return True\n",
    "\n",
    "    # a[i]から選ぶ処理\n",
    "    # 再帰関数により、終端(10行目のif文)でFalseとなった場合は1つ前の節に戻り、\n",
    "    # その節の戻り値も27行目で必ずFalseとなるので実質2つ前の節に戻ることになる。\n",
    "    if dfs(i + 1, sum + a[i]):\n",
    "        return True\n",
    "\n",
    "    return False\n",
    "\n",
    "\n",
    "if dfs(0, 0):\n",
    "    print(\"Yes\\n\")\n",
    "else:\n",
    "    print(\"No\\n\")\n"
   ]
  },
  {
   "cell_type": "markdown",
   "metadata": {},
   "source": [
    "### Lake Counting (POJ No.2386)"
   ]
  },
  {
   "cell_type": "code",
   "execution_count": null,
   "metadata": {},
   "outputs": [
    {
     "name": "stdout",
     "output_type": "stream",
     "text": [
      "3\n"
     ]
    }
   ],
   "source": [
    "N = 10\n",
    "W = 12\n",
    "\n",
    "temp_field = \"\"\"W........WW.\n",
    ".WWW.....WWW\n",
    "....WW...WW.\n",
    ".........WW.\n",
    ".........W..\n",
    "..W......W..\n",
    ".W.W.....WW.\n",
    "W.W.W.....W.\n",
    ".W.W......W.\n",
    "..W.......W.\"\"\"\n",
    "\n",
    "field = []\n",
    "for row_str in temp_field.split(\"\\n\"):\n",
    "    field.append([char for char in row_str])\n",
    "\n",
    "\n",
    "def dfs(x, y):\n",
    "    # 現在位置を\".\"に置き換える\n",
    "    field[x][y] = \".\"\n",
    "\n",
    "    for dx in range(-1, 2):\n",
    "        for dy in range(-1, 2):\n",
    "            nx = x + dx\n",
    "            ny = y + dy\n",
    "\n",
    "            if (\n",
    "                0 <= nx < len(field)\n",
    "                and 0 <= ny < len(field[0])\n",
    "                and field[nx][ny] == \"W\"\n",
    "            ):\n",
    "                dfs(nx, ny)\n",
    "    return\n",
    "\n",
    "\n",
    "res = 0\n",
    "for i in range(0, len(field)):\n",
    "    for j in range(0, len(field[0])):\n",
    "        if field[i][j] == \"W\":\n",
    "            dfs(i, j)\n",
    "            res += 1\n",
    "\n",
    "print(res)\n"
   ]
  },
  {
   "cell_type": "markdown",
   "metadata": {},
   "source": [
    "## 幅優先探索(BFS)"
   ]
  },
  {
   "cell_type": "markdown",
   "metadata": {},
   "source": [
    "### 迷路の最短路"
   ]
  },
  {
   "cell_type": "code",
   "execution_count": null,
   "metadata": {},
   "outputs": [
    {
     "name": "stdout",
     "output_type": "stream",
     "text": [
      "\n",
      "22\n"
     ]
    },
    {
     "data": {
      "text/plain": [
       "'\\n#S######.#\\n......#..#\\n.#.##.##.#\\n.#........\\n##.##.####\\n....#....#\\n.#######.#\\n....#.....\\n.####.###.\\n....#...G#\\n'"
      ]
     },
     "metadata": {},
     "output_type": "display_data"
    }
   ],
   "source": [
    "temp_maze = \"\"\"\n",
    "    #S######.#\n",
    "    ......#..#\n",
    "    .#.##.##.#\n",
    "    .#........\n",
    "    ##.##.####\n",
    "    ....#....#\n",
    "    .#######.#\n",
    "    ....#.....\n",
    "    .####.###.\n",
    "    ....#...G#\n",
    "    \"\"\"\n",
    "\n",
    "maze = []\n",
    "for row_str in temp_maze.strip().split(\"\\n\"):\n",
    "    maze.append([char for char in row_str.strip()])\n",
    "# 行列とxy軸を合わせるために転置\n",
    "maze = [list(x) for x in zip(*maze)]\n",
    "print()\n",
    "\n",
    "N = 10\n",
    "M = 10\n",
    "# これ以上の距離になる場合は停止\n",
    "INF = 10000000000\n",
    "# スタート位置\n",
    "sx: int = 1\n",
    "sy: int = 0\n",
    "# ゴール位置\n",
    "gx: int = 8\n",
    "gy: int = 9\n",
    "# 各地点までの最短処理の配列\n",
    "d = []\n",
    "# 移動4方向のベクトルを定義\n",
    "dx = [1, 0, -1, 0]\n",
    "dy = [0, 1, 0, -1]\n",
    "p: tuple[int, int]\n",
    "\n",
    "from queue import Queue\n",
    "\n",
    "\n",
    "def bfs():\n",
    "    que = Queue()\n",
    "    # すべての点の距離をINFで初期化\n",
    "    for i in range(N):\n",
    "        d.append([])\n",
    "        for j in range(M):\n",
    "            d[i].append(INF)\n",
    "\n",
    "    # スタート地点をキューに入れて、距離を０に設定\n",
    "    que.put((sx, sy))\n",
    "    d[sx][sy] = 0\n",
    "\n",
    "    # キューが空になるまでループ\n",
    "    while not que.empty():\n",
    "        # キューの先頭を取り出す\n",
    "        p = que.get()\n",
    "        # 取り出した状態がゴールなら探索を終了\n",
    "        if p == (gx, gy):\n",
    "            break\n",
    "        # 移動４方向をループ\n",
    "        for i in range(4):\n",
    "            # nx, nyは移動後の位置\n",
    "            nx, ny = p[0] + dx[i], p[1] + dy[i]\n",
    "            # 移動が可能かの判定と、すでに訪れたことがあるかの判定(d[ny][nx] == INFの時は訪れたことがない)\n",
    "            if 0 <= nx < N and 0 <= ny < M and maze[nx][ny] != \"#\" and d[nx][ny] == INF:\n",
    "                # 移動可能な場合はキューに入れ、その点の距離をpからの距離+1で確定する。\n",
    "                que.put((nx, ny))\n",
    "                d[nx][ny] = d[p[0]][p[1]] + 1\n",
    "    return d[gx][gy]\n",
    "\n",
    "\n",
    "res = bfs()\n",
    "print(f\"{str(res)}\")\n",
    "\n",
    "# 以下デバッグ時の確認用\n",
    "\"\"\"\n",
    "#S######.#\n",
    "......#..#\n",
    ".#.##.##.#\n",
    ".#........\n",
    "##.##.####\n",
    "....#....#\n",
    ".#######.#\n",
    "....#.....\n",
    ".####.###.\n",
    "....#...G#\n",
    "\"\"\"\n"
   ]
  },
  {
   "cell_type": "markdown",
   "metadata": {},
   "source": [
    "## 特殊な状態の列挙(permutation)"
   ]
  },
  {
   "cell_type": "code",
   "execution_count": null,
   "metadata": {},
   "outputs": [
    {
     "name": "stdout",
     "output_type": "stream",
     "text": [
      "[(1, 2, 3, 4), (1, 2, 4, 3), (1, 3, 2, 4), (1, 3, 4, 2), (1, 4, 2, 3), (1, 4, 3, 2), (2, 1, 3, 4), (2, 1, 4, 3), (2, 3, 1, 4), (2, 3, 4, 1), (2, 4, 1, 3), (2, 4, 3, 1), (3, 1, 2, 4), (3, 1, 4, 2), (3, 2, 1, 4), (3, 2, 4, 1), (3, 4, 1, 2), (3, 4, 2, 1), (4, 1, 2, 3), (4, 1, 3, 2), (4, 2, 1, 3), (4, 2, 3, 1), (4, 3, 1, 2), (4, 3, 2, 1)]\n",
      "[(1, 2), (1, 3), (1, 4), (2, 3), (2, 4), (3, 4)]\n"
     ]
    }
   ],
   "source": [
    "\"\"\"\n",
    "C++の,\n",
    "next_permutationを用いたn個の要素(n!通り)の順列の作り方や、\n",
    "combinationを用いたnCkについて(3-2にて)解説されているが、\n",
    "pythonでは、\n",
    "from itertools import permutations, combinations\n",
    "を用いればよい\n",
    "\"\"\"\n",
    "n = [1, 2, 3, 4]\n",
    "from itertools import permutations, combinations\n",
    "\n",
    "perm_iter = permutations(n, len(n))\n",
    "comb_iter = combinations(n, 2)\n",
    "print(list(perm_iter))\n",
    "print(list(comb_iter))"
   ]
  },
  {
   "cell_type": "markdown",
   "metadata": {},
   "source": [
    "## 枝刈り\n",
    "深さ優先探索時に、それ以上の深さに解がないことが明らかな場合に探索を打ち切る。  \n",
    "これを枝刈りという。  \n",
    "前の部分和問題で枝刈りを実行する場合は以下を追加すればいいが、  \n",
    "入力が少ないのであまり速度には影響しない。  \n",
    "```\n",
    "if sum > 13:\n",
    "    return False\n",
    "```"
   ]
  }
 ],
 "metadata": {
  "language_info": {
   "name": "python"
  },
  "orig_nbformat": 4
 },
 "nbformat": 4,
 "nbformat_minor": 2
}
