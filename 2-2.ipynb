{
 "cells": [
  {
   "cell_type": "markdown",
   "metadata": {},
   "source": [
    "# 2-2 貪欲法\n",
    "## 硬貨の問題"
   ]
  },
  {
   "cell_type": "code",
   "execution_count": 15,
   "metadata": {},
   "outputs": [
    {
     "name": "stdout",
     "output_type": "stream",
     "text": [
      "解がありません\n"
     ]
    }
   ],
   "source": [
    "C1 = 3\n",
    "C5 = 2\n",
    "C10 = 1\n",
    "C50 = 3\n",
    "C100 = 0\n",
    "C500 = 2\n",
    "A = 630\n",
    "\n",
    "V = [1, 5, 10, 50, 100, 500]\n",
    "C = [C1, C5, C10, C50, C100, C500]\n",
    "\n",
    "def solve(A):\n",
    "    ans = 0\n",
    "    for i in range(5, -1, -1):\n",
    "        t = min(A // V[i], C[i])  # コインiを使う枚数\n",
    "        A -= t * V[i]\n",
    "        ans += t\n",
    "    if A == 0:\n",
    "        print(ans)\n",
    "    else:\n",
    "        print(\"解がありません\")\n",
    "\n",
    "solve(A)\n"
   ]
  },
  {
   "cell_type": "code",
   "execution_count": null,
   "metadata": {},
   "outputs": [],
   "source": []
  }
 ],
 "metadata": {
  "interpreter": {
   "hash": "fcec4d3358d62ffaa44d75756888997d2a344ece64bc2a5ae50ce7ca8de7df45"
  },
  "kernelspec": {
   "display_name": "Python 3.10.2 ('.venv': poetry)",
   "language": "python",
   "name": "python3"
  },
  "language_info": {
   "codemirror_mode": {
    "name": "ipython",
    "version": 3
   },
   "file_extension": ".py",
   "mimetype": "text/x-python",
   "name": "python",
   "nbconvert_exporter": "python",
   "pygments_lexer": "ipython3",
   "version": "3.10.2"
  },
  "orig_nbformat": 4
 },
 "nbformat": 4,
 "nbformat_minor": 2
}
