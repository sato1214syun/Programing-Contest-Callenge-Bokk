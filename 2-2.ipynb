{
 "cells": [
  {
   "cell_type": "markdown",
   "metadata": {},
   "source": [
    "# 2-2 貪欲法\n",
    "## 硬貨の問題"
   ]
  },
  {
   "cell_type": "code",
   "execution_count": 15,
   "metadata": {},
   "outputs": [
    {
     "name": "stdout",
     "output_type": "stream",
     "text": [
      "解がありません\n"
     ]
    }
   ],
   "source": [
    "C1 = 3\n",
    "C5 = 2\n",
    "C10 = 1\n",
    "C50 = 3\n",
    "C100 = 0\n",
    "C500 = 2\n",
    "A = 630\n",
    "\n",
    "V = [1, 5, 10, 50, 100, 500]\n",
    "C = [C1, C5, C10, C50, C100, C500]\n",
    "\n",
    "\n",
    "def solve(A):\n",
    "    ans = 0\n",
    "    for i in range(5, -1, -1):\n",
    "        t = min(A // V[i], C[i])  # コインiを使う枚数\n",
    "        A -= t * V[i]\n",
    "        ans += t\n",
    "    if A == 0:\n",
    "        print(ans)\n",
    "    else:\n",
    "        print(\"解が見つかりません\")\n",
    "\n",
    "\n",
    "solve(A)\n"
   ]
  },
  {
   "cell_type": "markdown",
   "metadata": {},
   "source": [
    "## 区間の問題"
   ]
  },
  {
   "cell_type": "code",
   "execution_count": 7,
   "metadata": {},
   "outputs": [
    {
     "name": "stdout",
     "output_type": "stream",
     "text": [
      "3\n"
     ]
    }
   ],
   "source": [
    "N = 5\n",
    "S = [1, 2, 4, 6, 8]\n",
    "T = [3, 5, 7, 9, 10]\n",
    "\n",
    "\n",
    "def solve():\n",
    "    # ソート\n",
    "    s_t_list = sorted(list(zip(S, T)), key=lambda x: x[1])\n",
    "    # tは最後に選んだ仕事の終了時間\n",
    "    ans = 0\n",
    "    t = 0\n",
    "    for (start_time, end_time) in s_t_list:\n",
    "        if t < start_time:\n",
    "            ans += 1\n",
    "            t = end_time\n",
    "\n",
    "    print(ans)\n",
    "\n",
    "solve()"
   ]
  },
  {
   "cell_type": "markdown",
   "metadata": {},
   "source": [
    "## 辞書順最小の問題"
   ]
  },
  {
   "cell_type": "code",
   "execution_count": 1,
   "metadata": {},
   "outputs": [
    {
     "name": "stdout",
     "output_type": "stream",
     "text": [
      "ABCBCD\n"
     ]
    }
   ],
   "source": [
    "N = 6\n",
    "\n",
    "def solve():\n",
    "    S = \"ACDBCB\"\n",
    "    T = \"\"\n",
    "    # 先頭と末尾のみを比較すると文字が同じ場合が定義しづらい。\n",
    "    # Sを反転したS_revを作成しまとめて辞書比較すれば問題ない\n",
    "    while S:\n",
    "        S_rev = \"\".join(list(reversed(S)))\n",
    "        if S < S_rev:\n",
    "            T += S[0]\n",
    "            S = S[1:]\n",
    "        else:\n",
    "            T += S[-1]\n",
    "            S = S[:-1]\n",
    "\n",
    "    print(T)\n",
    "\n",
    "solve()\n"
   ]
  },
  {
   "cell_type": "markdown",
   "metadata": {},
   "source": [
    "## その他の問題 Saruman's Army (POJ 3069)"
   ]
  },
  {
   "cell_type": "code",
   "execution_count": 18,
   "metadata": {},
   "outputs": [
    {
     "name": "stdout",
     "output_type": "stream",
     "text": [
      "3\n"
     ]
    }
   ],
   "source": [
    "N = 6\n",
    "R = 10\n",
    "X = sorted([1, 7, 15, 20, 30, 50])\n",
    "\n",
    "def solve():\n",
    "    ans = 0\n",
    "    i = 0\n",
    "    N = len(X)\n",
    "    while i < N:\n",
    "        # 要素0は無視\n",
    "        # sはカバーされていない一番左の点の位置\n",
    "        s = X[i]\n",
    "        i += 1\n",
    "\n",
    "        # sから距離+Rを超える点Xiを探して、Xi-1に印をつける\n",
    "        while i < N and X[i] <= s + R:\n",
    "            i += 1\n",
    "        p = X[i - 1]  # 現時点で一番右についた印の位置p\n",
    "        ans += 1  # 印の合計数\n",
    "\n",
    "        # pから距離+Rを超える点Xiを探し、次のループへ\n",
    "        while i < N and X[i] <= p + R:\n",
    "            i += 1\n",
    "    print(ans)\n",
    "\n",
    "solve()"
   ]
  },
  {
   "cell_type": "markdown",
   "metadata": {},
   "source": [
    "## Fence Repair (POJ 3253)"
   ]
  },
  {
   "cell_type": "code",
   "execution_count": 19,
   "metadata": {},
   "outputs": [
    {
     "name": "stdout",
     "output_type": "stream",
     "text": [
      "34\n"
     ]
    }
   ],
   "source": [
    "# 2分木(2-4で出る)の考え方を適用する\n",
    "\n",
    "N = 3\n",
    "L = [8, 5, 8]\n",
    "\n",
    "def solve():\n",
    "    ans = 0\n",
    "    N = 3\n",
    "    # 板が1本になるまで\n",
    "    while N > 1:\n",
    "        # 一番短い板min_index1, 次に短い板min_index2を求める\n",
    "        min_index1 = 0\n",
    "        min_index2 = 1\n",
    "\n",
    "        # 短い順でソート\n",
    "        if L[min_index1] > L[min_index2]:\n",
    "            min_index1, min_index2 = min_index2, min_index1\n",
    "\n",
    "        # 他に短い板があれば入れ替え\n",
    "        for i in range(2, N):\n",
    "            if L[i] < L[min_index1]:\n",
    "                min_index2 = min_index1\n",
    "                min_index1 = i\n",
    "            elif L[i] < L[min_index2]:\n",
    "                min_index2 = i\n",
    "        \n",
    "        # それらを結合\n",
    "        t = L[min_index1] + L[min_index2]\n",
    "        ans += t\n",
    "\n",
    "        # 最後の板の場合は入れ替え\n",
    "        if min_index1 == N - 1:\n",
    "            min_index1, min_index2 = min_index2, min_index1\n",
    "        # 一番短い板を結合後の板と置く(仮決め)\n",
    "        L[min_index1] = t\n",
    "        L[min_index2] = L[N - 1]\n",
    "\n",
    "        N -= 1\n",
    "\n",
    "    print(ans)\n",
    "\n",
    "solve()\n"
   ]
  },
  {
   "cell_type": "code",
   "execution_count": 11,
   "metadata": {},
   "outputs": [
    {
     "name": "stdout",
     "output_type": "stream",
     "text": [
      "34\n"
     ]
    }
   ],
   "source": [
    "# 2分木(2-4で出る)の考え方を適用する\n",
    "# ソート関数を使う場合\n",
    "\n",
    "N = 3\n",
    "L = [8, 5, 8]\n",
    "\n",
    "def solve():\n",
    "    ans = 0\n",
    "    N = 3\n",
    "    L = [8, 5, 8]\n",
    "    L = sorted(L) \n",
    "    # 板が1本になるまで\n",
    "    while N > 1:\n",
    "        # それらを結合\n",
    "        t = L[0] + L[1]\n",
    "        ans += t\n",
    "\n",
    "        # 結合↓要素を削除\n",
    "        L.pop(0)\n",
    "        L.pop(0)\n",
    "        \n",
    "        # 結合後の板を配列に入れる(辞書順)\n",
    "        for i, l in enumerate(L):\n",
    "            if t < l:\n",
    "                L.insert(i - 1, t)\n",
    "                break\n",
    "            elif i == len(L) - 1:\n",
    "                L.insert(i + 1, t)\n",
    "                break\n",
    "\n",
    "        N -= 1\n",
    "\n",
    "    print(ans)\n",
    "\n",
    "solve()\n"
   ]
  },
  {
   "cell_type": "code",
   "execution_count": null,
   "metadata": {},
   "outputs": [],
   "source": []
  }
 ],
 "metadata": {
  "interpreter": {
   "hash": "fcec4d3358d62ffaa44d75756888997d2a344ece64bc2a5ae50ce7ca8de7df45"
  },
  "kernelspec": {
   "display_name": "Python 3.10.2 ('.venv': poetry)",
   "language": "python",
   "name": "python3"
  },
  "language_info": {
   "codemirror_mode": {
    "name": "ipython",
    "version": 3
   },
   "file_extension": ".py",
   "mimetype": "text/x-python",
   "name": "python",
   "nbconvert_exporter": "python",
   "pygments_lexer": "ipython3",
   "version": "3.10.2"
  },
  "orig_nbformat": 4
 },
 "nbformat": 4,
 "nbformat_minor": 2
}
