{
 "cells": [
  {
   "cell_type": "markdown",
   "metadata": {},
   "source": [
    "# 2-3 動的計画法"
   ]
  },
  {
   "cell_type": "markdown",
   "metadata": {},
   "source": [
    "## 01 ナップザック問題"
   ]
  },
  {
   "cell_type": "code",
   "execution_count": 16,
   "metadata": {},
   "outputs": [
    {
     "name": "stdout",
     "output_type": "stream",
     "text": [
      "7\n"
     ]
    }
   ],
   "source": [
    "# 深さ方向探索で解く O(2^n)の計算量\n",
    "n = 4\n",
    "w_v = [(2, 3), (1, 2), (3, 4), (2, 2)]  # 重さと価値\n",
    "w = [item[0] for item in w_v]\n",
    "v = [item[1] for item in w_v]\n",
    "W = 5  # 重さの制限\n",
    "\n",
    "\n",
    "def rec(i: int, j: int):\n",
    "    res: int\n",
    "    # i番目以降の品物から、総和がj以下となるように選ぶ。\n",
    "    if i == len(w_v):  # 品物が残っていない場合\n",
    "        res = 0\n",
    "    elif j < w[i]:  # i番目の品物の重さがj(重さの余裕)を超えるため、次の品物を判定\n",
    "        res = rec(i + 1, j)\n",
    "    else:  # i番目の品物を入れることができる場合\n",
    "        # 入れない場合と入れる場合を両方試して、価値の大きいほうをmaxで選ぶ\n",
    "        res = max(rec(i + 1, j), rec(i + 1, j - w[i]) + v[i])\n",
    "\n",
    "    return res\n",
    "\n",
    "\n",
    "print(rec(0, W))\n"
   ]
  },
  {
   "cell_type": "code",
   "execution_count": 29,
   "metadata": {},
   "outputs": [
    {
     "name": "stdout",
     "output_type": "stream",
     "text": [
      "7\n"
     ]
    }
   ],
   "source": [
    "# メモ化で解く O(nW)\n",
    "# (i, j)の計算の重複する組み合わせをなくす\n",
    "\n",
    "# 深さ方向探索で解く O(2^n)の計算量\n",
    "n = 4\n",
    "w_v = [(2, 3), (1, 2), (3, 4), (2, 2)]  # 重さと価値\n",
    "w = [item[0] for item in w_v]\n",
    "v = [item[1] for item in w_v]\n",
    "W = 5  # 重さの制限\n",
    "\n",
    "# メモ化テーブルを初期化\n",
    "dp = {}\n",
    "\n",
    "\n",
    "def rec(i: int, j: int):\n",
    "    # 追加箇所\n",
    "    # すでに計算しているi,jの組み合わせの場合はメモから取り出す\n",
    "    if dp.get((i, j)) is not None:\n",
    "        return dp[(i, j)]\n",
    "\n",
    "    res: int\n",
    "    # i番目以降の品物から、総和がj以下となるように選ぶ。\n",
    "    if i == len(w_v):  # 品物が残っていない場合\n",
    "        res = 0\n",
    "    elif j < w[i]:  # i番目の品物の重さがj(重さの余裕)を超えるため、次の品物を判定\n",
    "        res = rec(i + 1, j)\n",
    "    else:  # i番目の品物を入れることができる場合\n",
    "        # 入れない場合と入れる場合を両方試して、価値の大きいほうをmaxで選ぶ\n",
    "        res = max(rec(i + 1, j), rec(i + 1, j - w[i]) + v[i])\n",
    "\n",
    "    dp[(i, j)] = res  # 追加箇所 メモに追加\n",
    "    return res\n",
    "\n",
    "\n",
    "test = rec(0, W)\n",
    "print(rec(0, W))\n"
   ]
  },
  {
   "cell_type": "code",
   "execution_count": 4,
   "metadata": {},
   "outputs": [
    {
     "name": "stdout",
     "output_type": "stream",
     "text": [
      "7\n"
     ]
    }
   ],
   "source": [
    "# 漸化式 計算量Ｏ(nW)\n",
    "\n",
    "# 深さ方向探索で解く O(2^n)の計算量\n",
    "n = 4\n",
    "w_v = [(2, 3), (1, 2), (3, 4), (2, 2)]  # 重さと価値\n",
    "w = [item[0] for item in w_v]\n",
    "v = [item[1] for item in w_v]\n",
    "W = 5  # 重さの制限\n",
    "\n",
    "# メモ化テーブルを初期化\n",
    "# \n",
    "pair_list = [(len(w_v), j) for j in range(W + 1)]\n",
    "dp = {key: 0 for key in pair_list}\n",
    "\n",
    "\n",
    "def solve():\n",
    "    for i in range(len(w_v) - 1, -1, -1):\n",
    "        for j in range(W + 1):\n",
    "            if j < w[i]:\n",
    "                dp[(i, j)] = dp[(i + 1, j)]\n",
    "            else:\n",
    "                dp[(i, j)] = max(dp[(i + 1, j)], dp[(i + 1, j - w[i])] + v[i])\n",
    "    print(dp[(0, W)])\n",
    "\n",
    "\n",
    "solve()\n"
   ]
  },
  {
   "cell_type": "markdown",
   "metadata": {},
   "source": [
    "## 最長共通部分問題(LCS: Longest Common Subsequence)"
   ]
  },
  {
   "cell_type": "code",
   "execution_count": 3,
   "metadata": {},
   "outputs": [
    {
     "name": "stdout",
     "output_type": "stream",
     "text": [
      "3\n"
     ]
    }
   ],
   "source": [
    "n = 4\n",
    "m = 4\n",
    "s = \"abcd\"\n",
    "t = \"becd\"\n",
    "\n",
    "# dp[(i, j)]はsiとtjに対するLCSの長さ\n",
    "# dp[(i + 1, j + 1)] = \n",
    "# max(dp[(i, j)] + 1, dp[(i, j+1)], dp[(i+1, j)]) = dp[(i, j)] + 1   (s]i+1]=t[j+1])\n",
    "# max(dp[(i, j + 1)], dp[(i + 1, j)])                   (それ以外)\n",
    "\n",
    "dp = {}\n",
    "for i in range(n + 1):\n",
    "    for j in range(m + 1):\n",
    "        dp[(i, j)] = 0\n",
    "\n",
    "\n",
    "def solve():\n",
    "    for i in range(n):\n",
    "        for j in range(m):\n",
    "            if s[i] == t[j]:\n",
    "                dp[(i + 1, j + 1)] = dp[(i, j)] + 1\n",
    "            else:\n",
    "                dp[(i + 1, j + 1)] = max(dp[(i, j + 1)], dp[(i + 1, j)])\n",
    "    print(dp[(n, m)])\n",
    "    return\n",
    "\n",
    "solve()\n"
   ]
  },
  {
   "cell_type": "markdown",
   "metadata": {},
   "source": [
    "## 個数制限なしナップザック問題"
   ]
  },
  {
   "cell_type": "code",
   "execution_count": 13,
   "metadata": {},
   "outputs": [
    {
     "name": "stdout",
     "output_type": "stream",
     "text": [
      "10\n"
     ]
    }
   ],
   "source": [
    "# 計算量O(nW^2)\n",
    "\n",
    "# i番目までの品物から重さの総和がj以下となるようにえらんだときの、価値の総和の最大値\n",
    "# dp[i + 1][j]\n",
    "# 漸化式は以下となる(ただし、品物iを選んだ個数はkと置く)\n",
    "# dp[0][j] = 0\n",
    "# dp[i + 1][j] = max(dp[i][j - k * w[i]] + k * v[i])  | 0 <= k\n",
    "\n",
    "n = 3\n",
    "w = (3, 4, 2)\n",
    "v = (4, 5, 3)\n",
    "W = 7\n",
    "dp = [[0] * (W + 1) for _ in range(n + 1)]\n",
    "\n",
    "def solve():\n",
    "    for i in range(n):\n",
    "        for j in range(0, W + 1):\n",
    "            k = 0\n",
    "            while k * w[i] <= j:\n",
    "                dp[i + 1][j] = max(dp[i + 1][j], dp[i][j - k * w[i]] + k * v[i])\n",
    "                k += 1\n",
    "\n",
    "    print(dp[n][W])\n",
    "\n",
    "solve()"
   ]
  },
  {
   "cell_type": "code",
   "execution_count": 12,
   "metadata": {},
   "outputs": [
    {
     "name": "stdout",
     "output_type": "stream",
     "text": [
      "10\n"
     ]
    }
   ],
   "source": [
    "# 計算量O(nW)\n",
    "\n",
    "n = 3\n",
    "w = (3, 4, 2)\n",
    "v = (4, 5, 3)\n",
    "W = 7\n",
    "dp = [[0] * (W + 1) for _ in range(n + 1)]\n",
    "\n",
    "def solve():\n",
    "    for i in range(n):\n",
    "        for j in range(0, W + 1):\n",
    "            if j < w[i]:\n",
    "                dp[i + 1][j] = dp[i][j]\n",
    "            else:\n",
    "                dp[i + 1][j] = max(dp[i][j], dp[i + 1][j - w[i]] + v[i])\n",
    "\n",
    "    print(dp[n][W])\n",
    "\n",
    "solve()"
   ]
  },
  {
   "cell_type": "code",
   "execution_count": 16,
   "metadata": {},
   "outputs": [
    {
     "name": "stdout",
     "output_type": "stream",
     "text": [
      "7\n"
     ]
    }
   ],
   "source": [
    "# 01 ナップザック問題を配列を再利用して解く場合\n",
    "n = 4\n",
    "w_v = [(2, 3), (1, 2), (3, 4), (2, 2)]  # 重さと価値\n",
    "w = [item[0] for item in w_v]\n",
    "v = [item[1] for item in w_v]\n",
    "W = 5  # 重さの制限\n",
    "\n",
    "MAX_N = 100\n",
    "MAX_W = 10000\n",
    "dp = [[0] * (MAX_W + 1) for _ in range(MAX_N + 1)]    # dpテーブル\n",
    "\n",
    "for i in range(n - 1, -1, -1):\n",
    "    for j in range(W + 1):\n",
    "        if j < w[i]:\n",
    "            dp[i][j] = dp[i + 1][j]\n",
    "        else:\n",
    "            dp[i][j] = max(dp[i + 1][j], dp[i + 1][j - w[i]] + v[i])\n",
    "print(dp[0][W])"
   ]
  },
  {
   "cell_type": "code",
   "execution_count": null,
   "metadata": {},
   "outputs": [],
   "source": [
    "# 01 個数制限なしナップザック問題を配列を再利用して解く場合"
   ]
  },
  {
   "cell_type": "markdown",
   "metadata": {},
   "source": [
    "### iに関するループの向きを順方向に直した動的計画法（O(nW))"
   ]
  },
  {
   "cell_type": "code",
   "execution_count": 2,
   "metadata": {},
   "outputs": [
    {
     "name": "stdout",
     "output_type": "stream",
     "text": [
      "7\n"
     ]
    }
   ],
   "source": [
    "# 入力\n",
    "n = 4\n",
    "w_v = [(2, 3), (1, 2), (3, 4), (2, 2)]  # 重さと価値\n",
    "w = [item[0] for item in w_v]\n",
    "v = [item[1] for item in w_v]\n",
    "W = 5  # 重さの制限\n",
    "\n",
    "MAX_N = 100\n",
    "MAX_W = 10000\n",
    "dp = [[0] * (MAX_W + 1) for _ in range(MAX_N + 1)]    # dpテーブル\n",
    "\n",
    "for i in range(n):\n",
    "    for j in range(W + 1):\n",
    "        if j < w[i]:\n",
    "            dp[i + 1][j] = dp[i][j]\n",
    "        else:\n",
    "            dp[i + 1][j] = max(dp[i][j], dp[i][j - w[i]] + v[i])\n",
    "print(dp[n][W])"
   ]
  }
 ],
 "metadata": {
  "interpreter": {
   "hash": "b3a3462b12d30b0a1c53841da54106fc72d53844bb65fc96a8d85913f1db0475"
  },
  "kernelspec": {
   "display_name": "Python 3.10.2 ('.venv': poetry)",
   "language": "python",
   "name": "python3"
  },
  "language_info": {
   "codemirror_mode": {
    "name": "ipython",
    "version": 3
   },
   "file_extension": ".py",
   "mimetype": "text/x-python",
   "name": "python",
   "nbconvert_exporter": "python",
   "pygments_lexer": "ipython3",
   "version": "3.10.2"
  },
  "orig_nbformat": 4
 },
 "nbformat": 4,
 "nbformat_minor": 2
}
