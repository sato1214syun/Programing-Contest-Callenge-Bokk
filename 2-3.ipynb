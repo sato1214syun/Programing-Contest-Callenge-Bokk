{
 "cells": [
  {
   "cell_type": "markdown",
   "metadata": {},
   "source": [
    "# 2-3 動的計画法"
   ]
  },
  {
   "cell_type": "markdown",
   "metadata": {},
   "source": [
    "## 01 ナップザック問題"
   ]
  },
  {
   "cell_type": "code",
   "execution_count": 16,
   "metadata": {},
   "outputs": [
    {
     "name": "stdout",
     "output_type": "stream",
     "text": [
      "7\n"
     ]
    }
   ],
   "source": [
    "W = 5  # 重さの制限\n",
    "\n",
    "\n",
    "def rec(i: int, j: int):\n",
    "    # 深さ方向探索で解く O(2^n)の計算量\n",
    "    n = 4\n",
    "    w_v = [(2, 3), (1, 2), (3, 4), (2, 2)]  # 重さと価値\n",
    "    w = [item[0] for item in w_v]\n",
    "    v = [item[1] for item in w_v]\n",
    "\n",
    "    res: int\n",
    "    # i番目以降の品物から、総和がj以下となるように選ぶ。\n",
    "    if i == len(w_v):  # 品物が残っていない場合\n",
    "        res = 0\n",
    "    elif j < w[i]:  # i番目の品物の重さがj(重さの余裕)を超えるため、次の品物を判定\n",
    "        res = rec(i + 1, j)\n",
    "    else:  # i番目の品物を入れることができる場合\n",
    "        # 入れない場合と入れる場合を両方試して、価値の大きいほうをmaxで選ぶ\n",
    "        res = max(rec(i + 1, j), rec(i + 1, j - w[i]) + v[i])\n",
    "\n",
    "    return res\n",
    "\n",
    "\n",
    "print(rec(0, W))"
   ]
  },
  {
   "cell_type": "code",
   "execution_count": 29,
   "metadata": {},
   "outputs": [
    {
     "name": "stdout",
     "output_type": "stream",
     "text": [
      "7\n"
     ]
    }
   ],
   "source": [
    "# メモ化で解く O(nW)\n",
    "# (i, j)の計算の重複する組み合わせをなくす\n",
    "\n",
    "\n",
    "def rec(i: int, j: int):\n",
    "    n = 4\n",
    "    w_v = [(2, 3), (1, 2), (3, 4), (2, 2)]  # 重さと価値\n",
    "    w = [item[0] for item in w_v]\n",
    "    v = [item[1] for item in w_v]\n",
    "    W = 5  # 重さの制限\n",
    "\n",
    "    # メモ化テーブルを初期化\n",
    "    dp = {}\n",
    "\n",
    "    # 追加箇所\n",
    "    # すでに計算しているi,jの組み合わせの場合はメモから取り出す\n",
    "    if dp.get((i, j)) is not None:\n",
    "        return dp[(i, j)]\n",
    "\n",
    "    res: int\n",
    "    # i番目以降の品物から、総和がj以下となるように選ぶ。\n",
    "    if i == len(w_v):  # 品物が残っていない場合\n",
    "        res = 0\n",
    "    elif j < w[i]:  # i番目の品物の重さがj(重さの余裕)を超えるため、次の品物を判定\n",
    "        res = rec(i + 1, j)\n",
    "    else:  # i番目の品物を入れることができる場合\n",
    "        # 入れない場合と入れる場合を両方試して、価値の大きいほうをmaxで選ぶ\n",
    "        res = max(rec(i + 1, j), rec(i + 1, j - w[i]) + v[i])\n",
    "\n",
    "    dp[(i, j)] = res  # 追加箇所 メモに追加\n",
    "    return res\n",
    "\n",
    "\n",
    "test = rec(0, W)\n",
    "print(rec(0, W))"
   ]
  },
  {
   "cell_type": "code",
   "execution_count": 4,
   "metadata": {},
   "outputs": [
    {
     "name": "stdout",
     "output_type": "stream",
     "text": [
      "7\n"
     ]
    }
   ],
   "source": [
    "# 漸化式 計算量Ｏ(nW)\n",
    "\n",
    "\n",
    "def solve():\n",
    "    n = 4\n",
    "    w_v = [(2, 3), (1, 2), (3, 4), (2, 2)]  # 重さと価値\n",
    "    w = [item[0] for item in w_v]\n",
    "    v = [item[1] for item in w_v]\n",
    "    W = 5  # 重さの制限\n",
    "\n",
    "    # メモ化テーブルを初期化\n",
    "    pair_list = [(len(w_v), j) for j in range(W + 1)]\n",
    "    dp = {key: 0 for key in pair_list}\n",
    "\n",
    "    for i in range(len(w_v) - 1, -1, -1):\n",
    "        for j in range(W + 1):\n",
    "            if j < w[i]:\n",
    "                dp[(i, j)] = dp[(i + 1, j)]\n",
    "            else:\n",
    "                dp[(i, j)] = max(dp[(i + 1, j)], dp[(i + 1, j - w[i])] + v[i])\n",
    "    print(dp[(0, W)])\n",
    "\n",
    "\n",
    "solve()"
   ]
  },
  {
   "cell_type": "markdown",
   "metadata": {},
   "source": [
    "## 最長共通部分問題(LCS: Longest Common Subsequence)\n",
    "$ dp[i][j]$ は$s_i$と$t_j$に対するLCSの長さ\n",
    "$$\n",
    "dp[i+1][j+1]=\n",
    "\\begin{cases}\n",
    "max(dp[i][j]+1,\\ dp[i][j+1],\\ dp[i+1][j]) & (s_{i+1}=t_{j+1})\\\\\n",
    "max(dp[i][j+1],\\ dp[i+1][j])&(それ以外)\n",
    "\\end{cases}\n",
    "$$"
   ]
  },
  {
   "cell_type": "code",
   "execution_count": 1,
   "metadata": {},
   "outputs": [
    {
     "name": "stdout",
     "output_type": "stream",
     "text": [
      "3\n"
     ]
    }
   ],
   "source": [
    "def solve():\n",
    "    n = 4\n",
    "    m = 4\n",
    "    s = \"abcd\"\n",
    "    t = \"becd\"\n",
    "    dp = [[0] * (n + 1) for _ in range(m + 1)]\n",
    "\n",
    "    for i in range(n):\n",
    "        for j in range(m):\n",
    "            if s[i] == t[j]:\n",
    "                dp[i + 1][j + 1] = dp[i][j] + 1\n",
    "            else:\n",
    "                dp[i + 1][j + 1] = max(dp[i][j + 1], dp[i + 1][j])\n",
    "    print(dp[n][m])\n",
    "    return\n",
    "\n",
    "\n",
    "solve()"
   ]
  },
  {
   "cell_type": "markdown",
   "metadata": {},
   "source": [
    "## 個数制限なしナップザック問題\n",
    "\n",
    "品物の添字は$ 1 \\leqq i \\leqq n$\n",
    "\n",
    "$ dp[i+1][j]:=$ i番目までの品物から重さの総和がj以下となるように選んだときの、価値の総和の最大値\n",
    "\n",
    "漸化式は以下となる(ここで、品物iの個数はkと置く)\n",
    "$$\n",
    "\\begin{align*}\n",
    "& dp[0][j] = 0\\\\\n",
    "& dp[i+1][j] = max(dp[i][j - k \\times w[i]] + k \\times v[i])\\ |\\ 0 \\leqq k\n",
    "\\end{align*}\n",
    "$$"
   ]
  },
  {
   "cell_type": "code",
   "execution_count": 26,
   "metadata": {},
   "outputs": [
    {
     "name": "stdout",
     "output_type": "stream",
     "text": [
      "10\n"
     ]
    }
   ],
   "source": [
    "# 計算量O(nW^2)\n",
    "\n",
    "\n",
    "def solve():\n",
    "    n = 3\n",
    "    w = (3, 4, 2)\n",
    "    v = (4, 5, 3)\n",
    "    W = 7\n",
    "    dp = [[0] * (W + 1) for _ in range(n + 1)]\n",
    "    for i in range(n):\n",
    "        for j in range(W + 1):\n",
    "            k = 0\n",
    "            while k * w[i] <= j:  # kを増加させていって、最大となるdp[i + 1][j]を探す\n",
    "                # max(dp[i + 1][j],・・・)はwhile内の各kに対し、dp[i + 1][j]が最大となるように更新するために入れている\n",
    "                test1 = dp[i + 1][j]\n",
    "                test2 = dp[i][j - k * w[i]] + k * v[i]\n",
    "                dp[i + 1][j] = max(dp[i + 1][j], dp[i][j - k * w[i]] + k * v[i])\n",
    "                k += 1\n",
    "\n",
    "    print(dp[n][W])\n",
    "\n",
    "\n",
    "solve()"
   ]
  },
  {
   "cell_type": "code",
   "execution_count": 27,
   "metadata": {},
   "outputs": [
    {
     "name": "stdout",
     "output_type": "stream",
     "text": [
      "9\n"
     ]
    }
   ],
   "source": [
    "# 計算量O(nW^2)\n",
    "\n",
    "n = 3\n",
    "w = (3, 4, 2)\n",
    "v = (4, 5, 3)\n",
    "W = 7\n",
    "dp = [[0] * (W + 1) for _ in range(n + 1)]\n",
    "\n",
    "\n",
    "def solve():\n",
    "    for i in range(n):\n",
    "        for j in range(W + 1):\n",
    "            k, new_j = divmod(j, w[i])\n",
    "            if k == 0:\n",
    "                dp[i + 1][j] = dp[i][j]\n",
    "            else:\n",
    "                dp[i + 1][j] = max(dp[i][j], dp[i][new_j] + k * v[i])\n",
    "\n",
    "    print(dp[n][W])\n",
    "\n",
    "\n",
    "solve()"
   ]
  },
  {
   "cell_type": "code",
   "execution_count": 19,
   "metadata": {},
   "outputs": [
    {
     "name": "stdout",
     "output_type": "stream",
     "text": [
      "10\n"
     ]
    }
   ],
   "source": [
    "# 計算量O(nW)\n",
    "\n",
    "\n",
    "def solve():\n",
    "    n = 3\n",
    "    w = (3, 4, 2)\n",
    "    v = (4, 5, 3)\n",
    "    W = 7\n",
    "    dp = [[0] * (W + 1) for _ in range(n + 1)]\n",
    "    for i in range(n):\n",
    "        for j in range(W + 1):\n",
    "            if j < w[i]:\n",
    "                dp[i + 1][j] = dp[i][j]\n",
    "            else:\n",
    "                dp[i + 1][j] = max(dp[i][j], dp[i + 1][j - w[i]] + v[i])\n",
    "\n",
    "    print(dp[n][W])\n",
    "\n",
    "\n",
    "solve()"
   ]
  },
  {
   "cell_type": "markdown",
   "metadata": {},
   "source": [
    "## 01 ナップザック問題を配列を再利用して解く場合"
   ]
  },
  {
   "cell_type": "code",
   "execution_count": 5,
   "metadata": {},
   "outputs": [
    {
     "name": "stdout",
     "output_type": "stream",
     "text": [
      "7\n"
     ]
    }
   ],
   "source": [
    "# ここでいう再利用とは、dpを2次元ですべてのi,jについて用意するのではなく、\n",
    "# j (W)についての1次元のみ準備して解くということ\n",
    "# この問題の漸化式では、iとi+1しか存在せず、dp[i][j]からdp[i+1][j]が求められるため、dp[i][j]にdp[i+1][j]の値を上書きしても成立する。\n",
    "# ということは、iを順方向にループさせればdpは1行のみしか必要ない(dp[j]を用意すれば十分)ということになる\n",
    "\n",
    "\n",
    "def solve():\n",
    "    n = 4\n",
    "    w_v = [(2, 3), (1, 2), (3, 4), (2, 2)]  # 重さと価値\n",
    "    w = [item[0] for item in w_v]\n",
    "    v = [item[1] for item in w_v]\n",
    "    W = 5  # 重さの制限\n",
    "\n",
    "    MAX_N = 100\n",
    "    MAX_W = 10000\n",
    "    dp = [0 for _ in range(MAX_W + 1)]  # dpテーブル\n",
    "    for i in range(n):\n",
    "        j = W\n",
    "        while j >= w[i]:\n",
    "            # ここでjはW ~ w[i], step=-1のループとなっている(前の解答ではj=0 ~ W, step=+1のループだった)\n",
    "            # こう記述するとif (j < w[i])での場合分けが不要になる\n",
    "            dp[j] = max(dp[j], dp[j - w[i]] + v[i])\n",
    "            j -= 1\n",
    "    print(dp[W])\n",
    "\n",
    "\n",
    "solve()"
   ]
  },
  {
   "cell_type": "markdown",
   "metadata": {},
   "source": [
    "## 個数制限なしナップザック問題を配列を再利用して解く場合"
   ]
  },
  {
   "cell_type": "markdown",
   "metadata": {},
   "source": [
    "### iに関するループの向きを順方向に直した動的計画法（O(nW))"
   ]
  },
  {
   "cell_type": "code",
   "execution_count": 3,
   "metadata": {},
   "outputs": [
    {
     "name": "stdout",
     "output_type": "stream",
     "text": [
      "10\n"
     ]
    }
   ],
   "source": [
    "# 計算量O(nW)\n",
    "\n",
    "\n",
    "def solve():\n",
    "    n = 3\n",
    "    w = (3, 4, 2)\n",
    "    v = (4, 5, 3)\n",
    "    W = 7\n",
    "    dp = [0 for _ in range(W + 1)]\n",
    "    for i in range(n):\n",
    "        j = w[i]\n",
    "        while j <= W:  # 個数制限ありの 01 ナップザック問題との違いはループの向きが+方向か-方向か\n",
    "            dp[j] = max(dp[j], dp[j - w[i]] + v[i])\n",
    "            j += 1\n",
    "\n",
    "    print(dp[W])\n",
    "\n",
    "\n",
    "solve()"
   ]
  },
  {
   "cell_type": "markdown",
   "metadata": {},
   "source": [
    "## Column DPにおける配列の再利用\n",
    "\n",
    "二つの配列を交互に使用することで配列の再利用が可能になるケースがよくある。上記の個数制限なしナップザック問題の場合はiの偶奇を考える\n",
    "\n",
    "$$\n",
    "dp[i + 1][j] = max(dp[i][j], dp[i + 1][j - w[i]] + v[i])\n",
    "$$\n",
    "\n",
    "という漸化式の場合は、$dp[i+1]$の計算時には$dp[i]$と$dp[i+1]$しか必要ないため、偶奇のみを考えて次のように書くことができる"
   ]
  },
  {
   "cell_type": "code",
   "execution_count": 10,
   "metadata": {},
   "outputs": [
    {
     "name": "stdout",
     "output_type": "stream",
     "text": [
      "10\n"
     ]
    }
   ],
   "source": [
    "def solve():\n",
    "    n = 3\n",
    "    w = (3, 4, 2)\n",
    "    v = (4, 5, 3)\n",
    "    W = 7\n",
    "    dp = [[0] * (W + 1) for _ in range(2)]  # 偶数奇数の２行分を初期化\n",
    "\n",
    "    for i in range(n):\n",
    "        for j in range(W + 1):\n",
    "            # ここで&はビット演算子(論理積)であり、偶数奇数を0,1で判定するために使用されている。以下のリンクを参照\n",
    "            # https://inazuma110.hatenablog.com/entry/2019/01/06/064716\n",
    "            # 2進数で表すと\n",
    "            # 01100100 = 100(10進数)\n",
    "            # 00000001 = 1(10進数)\n",
    "            # ↓(各桁で1同士なら1。それ以外なら0となる)\n",
    "            # 00000000 = 100 & 1 なので100は偶数とわかる\n",
    "\n",
    "            if j < w[i]:\n",
    "                dp[(i + 1) & 1][j] = dp[i & 1][j]\n",
    "            else:\n",
    "                dp[(i + 1) & 1][j] = max(dp[i & 1][j], dp[(i + 1) & 1][j - w[i]] + v[i])\n",
    "\n",
    "    print(dp[n & 1][W])\n",
    "\n",
    "\n",
    "solve()"
   ]
  },
  {
   "cell_type": "markdown",
   "metadata": {},
   "source": [
    "## 01 ナップザック問題その2\n",
    "\n",
    "制約\n",
    "$$\n",
    "1 <= n <= 100 \\\\\n",
    "1 <= w_i <= 10^7 \\\\\n",
    "1 <= v_i <= 100 \\\\\n",
    "1 <= W <= 10^9 \\\\\n",
    "$$\n",
    "\n",
    "制約が変わったため、計算量O(nW)ではうまくいかない\n",
    "\n",
    "この問題では重さより価値の値が小さいので、dpの対象を価値に入れ替える必要がある\n",
    "\n",
    "つまり、前回は重さに対する最大の価値をDPで計算したが、今回は価値に対する最小の重さをDPで計算する。\n",
    "\n",
    "漸化式は、\n",
    "$$\n",
    "dp[i+1][j]=min(dp[i][j],\\ dp[i][j - v[i]]+w[i])\n",
    "$$"
   ]
  },
  {
   "cell_type": "code",
   "execution_count": 7,
   "metadata": {},
   "outputs": [
    {
     "name": "stdout",
     "output_type": "stream",
     "text": [
      "7\n"
     ]
    }
   ],
   "source": [
    "def solve():  # 修正\n",
    "    n = 4\n",
    "    w_v = [(2, 3), (1, 2), (3, 4), (2, 2)]  # 重さと価値\n",
    "    w = [item[0] for item in w_v]\n",
    "    v = [item[1] for item in w_v]\n",
    "    W = 5  # 重さの制限\n",
    "    MAX_V = 100  # 価値の最大\n",
    "\n",
    "    MAX_N = 100\n",
    "    MAX_W = 100000000\n",
    "    # i番目までの品物を選んで価値がjとなるときの、重さの総和の最小値。解がない場合があるため初期値はinfとする\n",
    "    # またi=0の時は何も選べないため0\n",
    "    # dp[0][j] = 0\n",
    "    # dp[i][j] = INF (i > 0, j > 0)\n",
    "    dp = [\n",
    "        [0] * (MAX_N * MAX_V + 1) if i > 0 else [0] + [float(\"inf\")] * (MAX_N * MAX_V) for i in range(MAX_N + 1)\n",
    "    ]\n",
    "\n",
    "    for i in range(n):\n",
    "        for j in range(MAX_N * MAX_V + 1):\n",
    "            if j < v[i]:\n",
    "                dp[i + 1][j] = dp[i][j]\n",
    "            else:\n",
    "                dp[i + 1][j] = min(dp[i][j], dp[i][j - v[i]] + w[i])\n",
    "    res = 0\n",
    "    for i in range(MAX_N * MAX_V + 1):\n",
    "        if dp[n][i] <= W:\n",
    "            res = i\n",
    "\n",
    "    print(res)\n",
    "\n",
    "\n",
    "solve()"
   ]
  },
  {
   "cell_type": "markdown",
   "metadata": {},
   "source": [
    "## 個数制限付き部分和問題\n",
    "\n",
    "n種類の数$a_i$がそれぞれ$m_i$個あります。これらの中からいくつか選び、その総和をちょうどKとする個のができるか判定しなさい。\n",
    "\n",
    "制約\n",
    "- $1 \\leqq n \\leqq 100$\n",
    "- $1 \\leqq a_i, m_i \\leqq 100000$\n",
    "- $1 \\leqq K \\leqq 100000$"
   ]
  },
  {
   "cell_type": "markdown",
   "metadata": {},
   "source": [
    "この問題もDPで解くことができるが、漸化式の立て方で計算量が変わってくる。まずは下式で行う。\n",
    "\n",
    "$dp[i+1][j]$ := i番目まででjが作れるか\n",
    "\n",
    "i番目まででjを作るためには、i-1番目までで$j, j-a_i, ...., j-m_i \\times a_i$のどれかが作られている必要がある。したがって漸化式は\n",
    "\n",
    "$dp[i+1][j]=(0\\leqq k\\leqq m_iかつk\\times a_i \\leqq jでdp[i][j-k\\times a_i]が真となるkが存在する)$\n",
    "\n"
   ]
  },
  {
   "cell_type": "code",
   "execution_count": null,
   "metadata": {},
   "outputs": [],
   "source": []
  }
 ],
 "metadata": {
  "interpreter": {
   "hash": "b3a3462b12d30b0a1c53841da54106fc72d53844bb65fc96a8d85913f1db0475"
  },
  "kernelspec": {
   "display_name": "Python 3.10.2 ('.venv': poetry)",
   "language": "python",
   "name": "python3"
  },
  "language_info": {
   "codemirror_mode": {
    "name": "ipython",
    "version": 3
   },
   "file_extension": ".py",
   "mimetype": "text/x-python",
   "name": "python",
   "nbconvert_exporter": "python",
   "pygments_lexer": "ipython3",
   "version": "3.10.2"
  },
  "orig_nbformat": 4
 },
 "nbformat": 4,
 "nbformat_minor": 2
}
