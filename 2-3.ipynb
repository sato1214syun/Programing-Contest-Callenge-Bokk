{
 "cells": [
  {
   "cell_type": "markdown",
   "metadata": {},
   "source": [
    "# 2-3 動的計画法"
   ]
  },
  {
   "cell_type": "markdown",
   "metadata": {},
   "source": [
    "## 01 ナップザック問題"
   ]
  },
  {
   "cell_type": "code",
   "execution_count": 16,
   "metadata": {},
   "outputs": [
    {
     "name": "stdout",
     "output_type": "stream",
     "text": [
      "7\n"
     ]
    }
   ],
   "source": [
    "W = 5  # 重さの制限\n",
    "\n",
    "\n",
    "def rec(i: int, j: int):\n",
    "    # 深さ方向探索で解く O(2^n)の計算量\n",
    "    n = 4\n",
    "    w_v = [(2, 3), (1, 2), (3, 4), (2, 2)]  # 重さと価値\n",
    "    w = [item[0] for item in w_v]\n",
    "    v = [item[1] for item in w_v]\n",
    "\n",
    "    res: int\n",
    "    # i番目以降の品物から、総和がj以下となるように選ぶ。\n",
    "    if i == len(w_v):  # 品物が残っていない場合\n",
    "        res = 0\n",
    "    elif j < w[i]:  # i番目の品物の重さがj(重さの余裕)を超えるため、次の品物を判定\n",
    "        res = rec(i + 1, j)\n",
    "    else:  # i番目の品物を入れることができる場合\n",
    "        # 入れない場合と入れる場合を両方試して、価値の大きいほうをmaxで選ぶ\n",
    "        res = max(rec(i + 1, j), rec(i + 1, j - w[i]) + v[i])\n",
    "\n",
    "    return res\n",
    "\n",
    "\n",
    "print(rec(0, W))"
   ]
  },
  {
   "cell_type": "code",
   "execution_count": 29,
   "metadata": {},
   "outputs": [
    {
     "name": "stdout",
     "output_type": "stream",
     "text": [
      "7\n"
     ]
    }
   ],
   "source": [
    "# メモ化で解く O(nW)\n",
    "# (i, j)の計算の重複する組み合わせをなくす\n",
    "\n",
    "\n",
    "def rec(i: int, j: int):\n",
    "    n = 4\n",
    "    w_v = [(2, 3), (1, 2), (3, 4), (2, 2)]  # 重さと価値\n",
    "    w = [item[0] for item in w_v]\n",
    "    v = [item[1] for item in w_v]\n",
    "    W = 5  # 重さの制限\n",
    "\n",
    "    # メモ化テーブルを初期化\n",
    "    dp = {}\n",
    "\n",
    "    # 追加箇所\n",
    "    # すでに計算しているi,jの組み合わせの場合はメモから取り出す\n",
    "    if dp.get((i, j)) is not None:\n",
    "        return dp[(i, j)]\n",
    "\n",
    "    res: int\n",
    "    # i番目以降の品物から、総和がj以下となるように選ぶ。\n",
    "    if i == len(w_v):  # 品物が残っていない場合\n",
    "        res = 0\n",
    "    elif j < w[i]:  # i番目の品物の重さがj(重さの余裕)を超えるため、次の品物を判定\n",
    "        res = rec(i + 1, j)\n",
    "    else:  # i番目の品物を入れることができる場合\n",
    "        # 入れない場合と入れる場合を両方試して、価値の大きいほうをmaxで選ぶ\n",
    "        res = max(rec(i + 1, j), rec(i + 1, j - w[i]) + v[i])\n",
    "\n",
    "    dp[(i, j)] = res  # 追加箇所 メモに追加\n",
    "    return res\n",
    "\n",
    "\n",
    "test = rec(0, W)\n",
    "print(rec(0, W))"
   ]
  },
  {
   "cell_type": "code",
   "execution_count": 4,
   "metadata": {},
   "outputs": [
    {
     "name": "stdout",
     "output_type": "stream",
     "text": [
      "7\n"
     ]
    }
   ],
   "source": [
    "# 漸化式 計算量Ｏ(nW)\n",
    "\n",
    "\n",
    "def solve():\n",
    "    n = 4\n",
    "    w_v = [(2, 3), (1, 2), (3, 4), (2, 2)]  # 重さと価値\n",
    "    w = [item[0] for item in w_v]\n",
    "    v = [item[1] for item in w_v]\n",
    "    W = 5  # 重さの制限\n",
    "\n",
    "    # メモ化テーブルを初期化\n",
    "    pair_list = [(len(w_v), j) for j in range(W + 1)]\n",
    "    dp = {key: 0 for key in pair_list}\n",
    "\n",
    "    for i in range(len(w_v) - 1, -1, -1):\n",
    "        for j in range(W + 1):\n",
    "            if j < w[i]:\n",
    "                dp[(i, j)] = dp[(i + 1, j)]\n",
    "            else:\n",
    "                dp[(i, j)] = max(dp[(i + 1, j)], dp[(i + 1, j - w[i])] + v[i])\n",
    "    print(dp[(0, W)])\n",
    "\n",
    "\n",
    "solve()"
   ]
  },
  {
   "cell_type": "markdown",
   "metadata": {},
   "source": [
    "## 最長共通部分問題(LCS: Longest Common Subsequence)\n",
    "$ dp[i][j]$ は$s_i$と$t_j$に対するLCSの長さ\n",
    "$$\n",
    "dp[i+1][j+1]=\n",
    "\\begin{cases}\n",
    "max(dp[i][j]+1,\\ dp[i][j+1],\\ dp[i+1][j]) & (s_{i+1}=t_{j+1})\\\\\n",
    "max(dp[i][j+1],\\ dp[i+1][j])&(それ以外)\n",
    "\\end{cases}\n",
    "$$"
   ]
  },
  {
   "cell_type": "code",
   "execution_count": 1,
   "metadata": {},
   "outputs": [
    {
     "name": "stdout",
     "output_type": "stream",
     "text": [
      "3\n"
     ]
    }
   ],
   "source": [
    "def solve():\n",
    "    n = 4\n",
    "    m = 4\n",
    "    s = \"abcd\"\n",
    "    t = \"becd\"\n",
    "    dp = [[0] * (n + 1) for _ in range(m + 1)]\n",
    "\n",
    "    for i in range(n):\n",
    "        for j in range(m):\n",
    "            if s[i] == t[j]:\n",
    "                dp[i + 1][j + 1] = dp[i][j] + 1\n",
    "            else:\n",
    "                dp[i + 1][j + 1] = max(dp[i][j + 1], dp[i + 1][j])\n",
    "    print(dp[n][m])\n",
    "    return\n",
    "\n",
    "\n",
    "solve()"
   ]
  },
  {
   "cell_type": "markdown",
   "metadata": {},
   "source": [
    "## 個数制限なしナップザック問題\n",
    "\n",
    "品物の添字は$ 1 \\leqq i \\leqq n$\n",
    "\n",
    "$ dp[i+1][j]:=$ i番目までの品物から重さの総和がj以下となるように選んだときの、価値の総和の最大値\n",
    "\n",
    "漸化式は以下となる(ここで、品物iの個数はkと置く)\n",
    "$$\n",
    "\\begin{align*}\n",
    "& dp[0][j] = 0\\\\\n",
    "& dp[i+1][j] = max(dp[i][j - k \\times w[i]] + k \\times v[i])\\ |\\ 0 \\leqq k\n",
    "\\end{align*}\n",
    "$$"
   ]
  },
  {
   "cell_type": "code",
   "execution_count": 26,
   "metadata": {},
   "outputs": [
    {
     "name": "stdout",
     "output_type": "stream",
     "text": [
      "10\n"
     ]
    }
   ],
   "source": [
    "# 計算量O(nW^2)\n",
    "\n",
    "\n",
    "def solve():\n",
    "    n = 3\n",
    "    w = (3, 4, 2)\n",
    "    v = (4, 5, 3)\n",
    "    W = 7\n",
    "    dp = [[0] * (W + 1) for _ in range(n + 1)]\n",
    "    for i in range(n):\n",
    "        for j in range(W + 1):\n",
    "            k = 0\n",
    "            while k * w[i] <= j:  # kを増加させていって、最大となるdp[i + 1][j]を探す\n",
    "                # max(dp[i + 1][j],・・・)はwhile内の各kに対し、dp[i + 1][j]が最大となるように更新するために入れている\n",
    "                test1 = dp[i + 1][j]\n",
    "                test2 = dp[i][j - k * w[i]] + k * v[i]\n",
    "                dp[i + 1][j] = max(dp[i + 1][j], dp[i][j - k * w[i]] + k * v[i])\n",
    "                k += 1\n",
    "\n",
    "    print(dp[n][W])\n",
    "\n",
    "\n",
    "solve()"
   ]
  },
  {
   "cell_type": "code",
   "execution_count": 27,
   "metadata": {},
   "outputs": [
    {
     "name": "stdout",
     "output_type": "stream",
     "text": [
      "9\n"
     ]
    }
   ],
   "source": [
    "# 計算量O(nW^2)\n",
    "\n",
    "n = 3\n",
    "w = (3, 4, 2)\n",
    "v = (4, 5, 3)\n",
    "W = 7\n",
    "dp = [[0] * (W + 1) for _ in range(n + 1)]\n",
    "\n",
    "\n",
    "def solve():\n",
    "    for i in range(n):\n",
    "        for j in range(W + 1):\n",
    "            k, new_j = divmod(j, w[i])\n",
    "            if k == 0:\n",
    "                dp[i + 1][j] = dp[i][j]\n",
    "            else:\n",
    "                dp[i + 1][j] = max(dp[i][j], dp[i][new_j] + k * v[i])\n",
    "\n",
    "    print(dp[n][W])\n",
    "\n",
    "\n",
    "solve()"
   ]
  },
  {
   "cell_type": "code",
   "execution_count": 19,
   "metadata": {},
   "outputs": [
    {
     "name": "stdout",
     "output_type": "stream",
     "text": [
      "10\n"
     ]
    }
   ],
   "source": [
    "# 計算量O(nW)\n",
    "\n",
    "\n",
    "def solve():\n",
    "    n = 3\n",
    "    w = (3, 4, 2)\n",
    "    v = (4, 5, 3)\n",
    "    W = 7\n",
    "    dp = [[0] * (W + 1) for _ in range(n + 1)]\n",
    "    for i in range(n):\n",
    "        for j in range(W + 1):\n",
    "            if j < w[i]:\n",
    "                dp[i + 1][j] = dp[i][j]\n",
    "            else:\n",
    "                dp[i + 1][j] = max(dp[i][j], dp[i + 1][j - w[i]] + v[i])\n",
    "\n",
    "    print(dp[n][W])\n",
    "\n",
    "\n",
    "solve()"
   ]
  },
  {
   "cell_type": "markdown",
   "metadata": {},
   "source": [
    "## 01 ナップザック問題を配列を再利用して解く場合"
   ]
  },
  {
   "cell_type": "code",
   "execution_count": 5,
   "metadata": {},
   "outputs": [
    {
     "name": "stdout",
     "output_type": "stream",
     "text": [
      "7\n"
     ]
    }
   ],
   "source": [
    "# ここでいう再利用とは、dpを2次元ですべてのi,jについて用意するのではなく、\n",
    "# j (W)についての1次元のみ準備して解くということ\n",
    "# この問題の漸化式では、iとi+1しか存在せず、dp[i][j]からdp[i+1][j]が求められるため、dp[i][j]にdp[i+1][j]の値を上書きしても成立する。\n",
    "# ということは、iを順方向にループさせればdpは1行のみしか必要ない(dp[j]を用意すれば十分)ということになる\n",
    "\n",
    "\n",
    "def solve():\n",
    "    n = 4\n",
    "    w_v = [(2, 3), (1, 2), (3, 4), (2, 2)]  # 重さと価値\n",
    "    w = [item[0] for item in w_v]\n",
    "    v = [item[1] for item in w_v]\n",
    "    W = 5  # 重さの制限\n",
    "\n",
    "    MAX_N = 100\n",
    "    MAX_W = 10000\n",
    "    dp = [0 for _ in range(MAX_W + 1)]  # dpテーブル\n",
    "    for i in range(n):\n",
    "        j = W\n",
    "        while j >= w[i]:\n",
    "            # ここでjはW ~ w[i], step=-1のループとなっている(前の解答ではj=0 ~ W, step=+1のループだった)\n",
    "            # こう記述するとif (j < w[i])での場合分けが不要になる\n",
    "            dp[j] = max(dp[j], dp[j - w[i]] + v[i])\n",
    "            j -= 1\n",
    "    print(dp[W])\n",
    "\n",
    "\n",
    "solve()"
   ]
  },
  {
   "cell_type": "markdown",
   "metadata": {},
   "source": [
    "## 個数制限なしナップザック問題を配列を再利用して解く場合"
   ]
  },
  {
   "cell_type": "markdown",
   "metadata": {},
   "source": [
    "### iに関するループの向きを順方向に直した動的計画法（O(nW))"
   ]
  },
  {
   "cell_type": "code",
   "execution_count": 3,
   "metadata": {},
   "outputs": [
    {
     "name": "stdout",
     "output_type": "stream",
     "text": [
      "10\n"
     ]
    }
   ],
   "source": [
    "# 計算量O(nW)\n",
    "\n",
    "\n",
    "def solve():\n",
    "    n = 3\n",
    "    w = (3, 4, 2)\n",
    "    v = (4, 5, 3)\n",
    "    W = 7\n",
    "    dp = [0 for _ in range(W + 1)]\n",
    "    for i in range(n):\n",
    "        j = w[i]\n",
    "        while j <= W:  # 個数制限ありの 01 ナップザック問題との違いはループの向きが+方向か-方向か\n",
    "            dp[j] = max(dp[j], dp[j - w[i]] + v[i])\n",
    "            j += 1\n",
    "\n",
    "    print(dp[W])\n",
    "\n",
    "\n",
    "solve()"
   ]
  },
  {
   "cell_type": "markdown",
   "metadata": {},
   "source": [
    "## Column DPにおける配列の再利用\n",
    "\n",
    "二つの配列を交互に使用することで配列の再利用が可能になるケースがよくある。上記の個数制限なしナップザック問題の場合はiの偶奇を考える\n",
    "\n",
    "$$\n",
    "dp[i + 1][j] = max(dp[i][j], dp[i + 1][j - w[i]] + v[i])\n",
    "$$\n",
    "\n",
    "という漸化式の場合は、$dp[i+1]$の計算時には$dp[i]$と$dp[i+1]$しか必要ないため、偶奇のみを考えて次のように書くことができる"
   ]
  },
  {
   "cell_type": "code",
   "execution_count": 6,
   "metadata": {},
   "outputs": [
    {
     "name": "stdout",
     "output_type": "stream",
     "text": [
      "10\n"
     ]
    }
   ],
   "source": [
    "def solve():\n",
    "    n = 3\n",
    "    w = (3, 4, 2)\n",
    "    v = (4, 5, 3)\n",
    "    W = 7\n",
    "    dp = [[0] * (W + 1) for _ in range(2)]  # 偶数奇数の２行分を初期化\n",
    "\n",
    "    for i in range(n):\n",
    "        for j in range(W + 1):\n",
    "            # ここで&はビット演算子(論理積)であり、偶数奇数を0,1で判定するために使用されている。以下のリンクを参照\n",
    "            # https://inazuma110.hatenablog.com/entry/2019/01/06/064716\n",
    "            # 2進数で表すと\n",
    "            # 01100100 = 100(10進数)\n",
    "            # 00000001 = 1(10進数)\n",
    "            # ↓(各桁で1同士なら1。それ以外なら0となる)\n",
    "            # 00000000 = 100 & 1 なので100は偶数とわかる\n",
    "\n",
    "            if j < w[i]:\n",
    "                dp[(i + 1) & 1][j] = dp[i & 1][j]\n",
    "            else:\n",
    "                dp[(i + 1) & 1][j] = max(dp[i & 1][j], dp[(i + 1) & 1][j - w[i]] + v[i])\n",
    "\n",
    "    print(dp[n & 1][W])\n",
    "\n",
    "\n",
    "solve()"
   ]
  },
  {
   "cell_type": "markdown",
   "metadata": {},
   "source": [
    "## 01 ナップザック問題その2\n",
    "\n",
    "制約\n",
    "$$\n",
    "1 <= n <= 100 \\\\\n",
    "1 <= w_i <= 10^7 \\\\\n",
    "1 <= v_i <= 100 \\\\\n",
    "1 <= W <= 10^9 \\\\\n",
    "$$\n",
    "\n",
    "制約が変わったため、計算量O(nW)ではうまくいかない\n",
    "\n",
    "この問題では重さw($10^7$)より価値v($100$)の値が小さいので、DPの対象を価値に入れ替える必要がある\n",
    "\n",
    "つまり前回は、i番目までの品物の重さの総和がjとなるように選んだときの、価値の総和の最大を$dp[i][j]$に格納したが、\n",
    "\n",
    "今回は、i番目までの品物の価値の総和がjとなるよう選んだときの、重さの総和の最小を$dp[i][j]$に格納する。\n",
    "\n",
    "漸化式は、\n",
    "$$\n",
    "dp[i+1][j]=min(dp[i][j],\\ dp[i][j - v[i]]+w[i])\n",
    "$$"
   ]
  },
  {
   "cell_type": "code",
   "execution_count": 6,
   "metadata": {},
   "outputs": [
    {
     "name": "stdout",
     "output_type": "stream",
     "text": [
      "7\n"
     ]
    }
   ],
   "source": [
    "def solve():  # 修正\n",
    "    n = 4\n",
    "    w_v = [(2, 3), (1, 2), (3, 4), (2, 2)]  # 重さと価値\n",
    "    w = [item[0] for item in w_v]\n",
    "    v = [item[1] for item in w_v]\n",
    "    W = 5  # 重さの制限\n",
    "    MAX_V = 100  # 価値の最大\n",
    "\n",
    "    MAX_N = int(1e+2)\n",
    "    MAX_W = int(1e+9)\n",
    "    # i番目までの品物を選んで価値がjとなるときの、重さの総和の最小値。解がない場合があるため初期値はinfとする\n",
    "    # またi=0の時は何も選べないため0\n",
    "    # dp[0][j] = 0\n",
    "    # dp[i][j] = INF (i > 0, j > 0)\n",
    "    dp: list[list[float | int]] = [\n",
    "        [0] * (MAX_N * MAX_V + 1) if i > 0 else [0] + [float(\"inf\")] * (MAX_N * MAX_V) for i in range(MAX_N + 1)\n",
    "    ]\n",
    "\n",
    "    for i in range(n):\n",
    "        for j in range(MAX_N * MAX_V + 1):\n",
    "            if j < v[i]:\n",
    "                dp[i + 1][j] = dp[i][j]\n",
    "            else:\n",
    "                dp[i + 1][j] = min(dp[i][j], dp[i][j - v[i]] + w[i])\n",
    "    res = 0\n",
    "    # 答えは、dp[n][j] <= W となる最大のj\n",
    "    for i in range(MAX_N * MAX_V + 1):\n",
    "        if dp[n][i] <= W:\n",
    "            res = i\n",
    "\n",
    "    print(res)\n",
    "\n",
    "\n",
    "solve()"
   ]
  },
  {
   "cell_type": "markdown",
   "metadata": {},
   "source": [
    "## 個数制限付き部分和問題\n",
    "\n",
    "n種類の数$a_i$がそれぞれ$m_i$個あります。これらの中からいくつか選び、その総和をちょうどKとする個のができるか判定しなさい。\n",
    "\n",
    "制約\n",
    "- $1 \\leqq n \\leqq 100$\n",
    "- $1 \\leqq a_i, m_i \\leqq 100000$\n",
    "- $1 \\leqq K \\leqq 100000$"
   ]
  },
  {
   "cell_type": "markdown",
   "metadata": {},
   "source": [
    "この問題もDPで解くことができるが、漸化式の立て方で計算量が変わってくる。まずは下式で行う。\n",
    "\n",
    "$dp[i+1][j]$ := i番目まででjが作れるか\n",
    "\n",
    "$a_i$: $i$番目の数\n",
    "\n",
    "$m_i$: $a_i$が使える最大個数\n",
    "\n",
    "$k$: $a_i$を使う数($0\\leqq k\\leqq m_i$)\n",
    "\n",
    "i番目まででjを作るためには、i-1番目までで$j, j-a_i, ...., j-m_i \\times a_i$のどれかが作られている必要がある。したがって漸化式は\n",
    "\n",
    "$dp[i+1][j]=(0\\leqq k\\leqq m_iかつk\\times a_i \\leqq jでdp[i][j-k\\times a_i]が真となるkが存在する)$\n"
   ]
  },
  {
   "cell_type": "code",
   "execution_count": 3,
   "metadata": {},
   "outputs": [
    {
     "name": "stdout",
     "output_type": "stream",
     "text": [
      "yes\n"
     ]
    }
   ],
   "source": [
    "MAX_N = 100\n",
    "MAX_K = 100000\n",
    "\n",
    "n = 3\n",
    "a = [3, 5, 8]\n",
    "m = [3, 2, 2]\n",
    "K = 17\n",
    "\n",
    "dp = [(MAX_K + 1) * [False] for i in range(MAX_N + 1)]\n",
    "\n",
    "\n",
    "def solve():\n",
    "    dp[0][0] =True\n",
    "    for i in range(n):\n",
    "         for j in range(K + 1):\n",
    "            for k in range(m[i] + 1):\n",
    "                if k * a[i] <= j:\n",
    "                    dp[i + 1][j] |= dp[i][j - k * a[i]]\n",
    "\n",
    "    if dp[n][K]:\n",
    "        print(\"yes\")\n",
    "    else:\n",
    "        print(\"no\")\n",
    "\n",
    "solve()"
   ]
  },
  {
   "cell_type": "markdown",
   "metadata": {},
   "source": [
    "上記のアルゴリズムは計算量$K\\sum_i m_i$なので不十分\n",
    "\n",
    "一般にbool値を求めるDPをすることは無駄が多い\n",
    "\n",
    "作れるかどうかというbool値だけでなく、作れる場合には残りどれだけ$a_i$が余っているかという情報を持たせる事により計算量を落とすことが可能\n",
    "\n",
    "$dp[i + 1][j] := k (a_{i番目}まででjを作る際に余る最大のa_{i番目}の個数。作れない場合は-1)$\n",
    "\n",
    "と定義する。\n",
    "\n",
    "ここで前のアルゴリズムのときと違い、$k:=jを作る際に余るa_iの個数$という定義になっていることに注意\n",
    "\n",
    "$a_０$から$a_{i-1}$までで$j$を作れる場合→$i$番目の数($a_i$)を個数$m_i$分まるまる残せる\n",
    "\n",
    "または、$a_0$から$a_i$までで$j-a_i$を作る際に$a_i$を$k$個$(k>0)$残せる場合→$a_i$を$k-1$個残してjを作ることができるということ。\n",
    "\n",
    "漸化式は\n",
    "\n",
    "$$\n",
    "dp[i  + 1][j]=\n",
    "    \\begin{cases}\n",
    "        \\begin{aligned}\n",
    "            m_i \\qquad &(dp[i][j] \\geqq 0) \\\\\n",
    "            -1 \\qquad &(j<a_iまたはdp[i+1][j-a_i] \\leqq 0) \\\\\n",
    "            dp[i+1][j-a_i]-1 \\qquad &(それ以外)\n",
    "        \\end{aligned}\n",
    "    \\end{cases}\n",
    "$$\n",
    "\n",
    "となり、最終的な答えは$dp[n][K] \\geqq 0$かどうかを調べることで得られる\n",
    "\n",
    "このとき計算量は\"O(nK)\""
   ]
  },
  {
   "cell_type": "code",
   "execution_count": 7,
   "metadata": {},
   "outputs": [
    {
     "name": "stdout",
     "output_type": "stream",
     "text": [
      "yes\n"
     ]
    }
   ],
   "source": [
    "MAX_N = 100\n",
    "MAX_K = 100000\n",
    "\n",
    "n = 3\n",
    "a = [3, 5, 8]\n",
    "m = [3, 2, 2]\n",
    "K = 17\n",
    "\n",
    "dp = [-1 for i in range(MAX_K + 1)]\n",
    "\n",
    "def solve():\n",
    "    dp[0] = 0\n",
    "    for i in range(n):\n",
    "         for j in range(K + 1):\n",
    "            if dp[j] >= 0:\n",
    "                dp[j] = m[i]\n",
    "            elif j < a[i] or dp[j - a[i]] <= 0:\n",
    "                dp[j] = -1\n",
    "            else:\n",
    "                dp[j] = dp[j -a[i]] -1\n",
    "    if dp[K] >= 0:\n",
    "        print(\"yes\")\n",
    "    else:\n",
    "        print(\"no\")\n",
    "\n",
    "solve()"
   ]
  },
  {
   "cell_type": "markdown",
   "metadata": {},
   "source": [
    "## 最長増加部分列問題(LIS: Longest Increasing Subsequence)\n",
    "\n",
    "長さ$n$の数列$a_0, a_1, ..., a_{n-1}$がある。この数列の増加部分列のうち、最長のものの長さを求めなさい。\n",
    "\n",
    "ただし増加部分列とは、すべての$i<j$で$a_i < a_j$を満たす部分列のことを言う。\n",
    "\n",
    "(つまり、$a_{i = 0~n}$の数列において、$i$が大きくなる場合に$a_i$も大きくなっていくような$a$を選んでいったときに一番選んだ数が一番多くなる組み合わせを探す)\n",
    "\n",
    "制約\n",
    "\n",
    "$1 \\leqq n \\leqq 1000 \\\\$\n",
    "$1 \\leqq a_i \\leqq 1000000$\n",
    "\n",
    "入力\n",
    "\n",
    "n = 5\n",
    "\n",
    "a = {4, 2, 3, 1, 5}\n",
    "\n",
    "出力\n",
    "\n",
    "3($a_1, a_2, a_4からなる部分列1, 3, 5が最長$)\n",
    "\n",
    "\n",
    "以下、漸化式を立ててみる。\n",
    "\n",
    "$dp[i] := 最後がa_iであるような最長部分増加列の長さ$\n",
    "\n",
    "と定義してみる。最後が$a_i$であるような部分増加列は、\n",
    "\n",
    "1. $a_iのみからなる列$\n",
    "\n",
    "2. $j<iかつ、a_j<a_iであるようなa_jで終わる部分増加列の後ろにaiを付け足した列$\n",
    "\n",
    "のどちらか。ここから漸化式は以下となる\n",
    "\n",
    "$dp[i] = max[1, dp[j] + 1 (j<iかつa_j<a_i)]$\n",
    "\n",
    "このとき、計算量は$O(n^2)$"
   ]
  },
  {
   "cell_type": "code",
   "execution_count": 6,
   "metadata": {},
   "outputs": [
    {
     "name": "stdout",
     "output_type": "stream",
     "text": [
      "3\n"
     ]
    }
   ],
   "source": [
    "n = 5\n",
    "a = [4, 2, 3, 1, 5]\n",
    "\n",
    "MAX_N = 1000\n",
    "MAX_A = 1000000\n",
    "\n",
    "dp = [1] * MAX_N\n",
    "\n",
    "def solve():\n",
    "    res = 0\n",
    "    for i in range(n):\n",
    "        for j in range(i):\n",
    "            if not a[j] < a[i]:\n",
    "                continue\n",
    "            dp[i] = max(dp[i], dp[j] + 1)\n",
    "        \n",
    "        res = max(res, dp[i])\n",
    "    print(res)\n",
    "\n",
    "solve()"
   ]
  },
  {
   "cell_type": "markdown",
   "metadata": {},
   "source": [
    "他の解き方として、\n",
    "\n",
    "同じ長さ$i + 1$の部分増加列なら最終要素$a_j$が小さい方が有利であることを利用して、長さ$i + 1$に対する最小の最終要素$a_j$をDPで計算してみる。\n",
    "\n",
    "$dp[i] := 長さがi+1であるような増加部分列における最終要素$a_j$の最少値(存在しない場合はinf)$\n",
    "\n",
    "と定義する。$dp[i]$の初期値はすべてINFとする。\n",
    "\n",
    "数列$a$の要素を前から順に見ていき、各$a_j$に対し、\n",
    "\n",
    "- $i=0$。つまりその$a_j$がdpの最初の要素であるとき\n",
    "\n",
    "- もしくは$dp[i - 1] < a_j$。つまり、長さiのときの値(dp[i - 1])より、長さi + 1のときの$a_j$が大きいとき(部分単調増加の条件に当てはまるとき)\n",
    "\n",
    "dpが更新され、その式は以下となる。\n",
    "\n",
    "$dp[i] = min(dp[i], a_j) (ここで、すでに存在するdp[i]=a_{j'}より、数列aのより後ろ側の要素a_jが小さいときにdp[i]を更新するため、min()を使用している)$\n",
    "\n",
    "最終的に$dp[i] < INF$かつ最大となるような$i + 1$が答えとなる。\n",
    "\n",
    "このアルゴリズムは普通に実装して先のアルゴリズムと同じ計算量$O(n^2)$で解くこともできるが、もっと高速に解ける。\n",
    "\n",
    "まず、dpの配列はINFを除いて単調増加になっている(ソートされている)。数列$a$を順に見ていったときに、各$a_j$が上記の条件を満たして更新が発生するのは最大でも各１回のみ。\n",
    "\n",
    "この更新が配列dpのどの要素に対して行われるかは２分探索で求めることができる。($dp[i] > $a_j$となる最小のiを２分探索で求め、a_jに置き換えれば良い)  \n",
    "\n",
    "これをそのまま実装すると、dpの末尾より前の要素も更新される可能性があるが、問題の性質上影響はない。(最終的な増加部分列の各要素は結果として不要なので)\n",
    "\n",
    "これを利用すれば計算量$O(n log n)$で解くことが可能。"
   ]
  },
  {
   "cell_type": "code",
   "execution_count": 7,
   "metadata": {},
   "outputs": [
    {
     "name": "stdout",
     "output_type": "stream",
     "text": [
      "[4, inf, inf, inf, inf]\n",
      "[2, inf, inf, inf, inf]\n",
      "[2, 3, inf, inf, inf]\n",
      "[1, 3, inf, inf, inf]\n",
      "[1, 3, 5, inf, inf]\n",
      "3\n"
     ]
    }
   ],
   "source": [
    "import bisect\n",
    "\n",
    "\n",
    "n = 5\n",
    "a = [4, 2, 3, 1, 5]\n",
    "\n",
    "MAX_N = 1000\n",
    "MAX_A = 1000000\n",
    "INF = float(\"inf\")\n",
    "\n",
    "dp = [INF] * n\n",
    "\n",
    "def solve():\n",
    "    for j in range(n):  # 書籍内ではiを使用しているが、説明文と整合性を取るためにはjのほうが良いと思われる\n",
    "        dp[bisect.bisect_left(dp, a[j])] = a[j]  # 書籍内ではC++なのでlower_boundを使っている\n",
    "        print(dp)\n",
    "    print(bisect.bisect_left(dp, INF)) # dp[i] が < inf かつ最大のときのi + 1は、dp内のはじめのINFの要素番号となるので２分探索で求められる。\n",
    "\n",
    "solve()\n"
   ]
  },
  {
   "cell_type": "code",
   "execution_count": 11,
   "metadata": {},
   "outputs": [
    {
     "name": "stdout",
     "output_type": "stream",
     "text": [
      "[4, inf, inf, inf, inf, inf, inf, inf, inf, inf]\n",
      "[2, inf, inf, inf, inf, inf, inf, inf, inf, inf]\n",
      "[2, 3, inf, inf, inf, inf, inf, inf, inf, inf]\n",
      "[2, 3, 5, inf, inf, inf, inf, inf, inf, inf]\n",
      "[2, 3, 5, 6, inf, inf, inf, inf, inf, inf]\n",
      "[2, 3, 5, 6, 10, inf, inf, inf, inf, inf]\n",
      "[2, 3, 5, 6, 9, inf, inf, inf, inf, inf]\n",
      "[2, 3, 5, 6, 9, 20, inf, inf, inf, inf]\n",
      "6\n"
     ]
    }
   ],
   "source": [
    "# この書籍内にはないが、最終的に最長増加部分列の各要素を得たい場合の実装は以下\n",
    "\n",
    "import bisect\n",
    "\n",
    "a = [4, 2, 3, 1, 5, 6, 10, 9, 20, 8]\n",
    "n = len(a)\n",
    "\n",
    "\n",
    "MAX_N = 1000\n",
    "MAX_A = 1000000\n",
    "INF = float(\"inf\")\n",
    "\n",
    "dp = [INF] * n\n",
    "\n",
    "def solve():\n",
    "    for j in range(n):\n",
    "        if (i := bisect.bisect_left(dp, a[j])) + 1 < bisect.bisect_left(dp, INF):  # 追加\n",
    "            continue  # 追加\n",
    "        dp[i] = a[j]\n",
    "        print(dp)\n",
    "    print(bisect.bisect_left(dp, INF))\n",
    "\n",
    "solve()"
   ]
  },
  {
   "cell_type": "markdown",
   "metadata": {},
   "source": [
    "## 分割数\n",
    "\n",
    "n個の互いに区別できない品物を、m個以下に分割する方法の総数を求め、Mで割った余りを答えなさい。\n",
    "→ nをm分割以下に分ける(順序は考慮しない)方法が何通りあるかを求め、それをMで割った余りを求める。\n",
    "\n",
    "制約\n",
    "\n",
    "$1 \\leqq m \\leqq n \\leqq 1000$\n",
    "\n",
    "$2 \\leqq M \\leqq 10000$"
   ]
  },
  {
   "cell_type": "markdown",
   "metadata": {},
   "source": [
    "このように、nをm個以下に分割したときの分割後の数をnのm分割といい、特にm=nのときに、nの分割数と言う。\n",
    "\n",
    "つまり問題文はnのm分割の総数をMで割った余りを求めよと言い換えられる。\n",
    "\n",
    "場合の数や、確率・期待値といった計算問題に関してもDPは有効。\n",
    "\n",
    "この問題では以下のように定義してみる。\n",
    "\n",
    "$dp[i][j] := jのi分割の総数$\n",
    "\n",
    "ここで、jをi分割するには、まずk個を取り出して、残りのj-kをi-1分割すると考えると、\n",
    "\n",
    "$ dp[i][j] = \\sum_{k=0}^{j}dp[i-1][j-k] $\n",
    "\n",
    "という漸化式が成り立つと思うかもしれないがこの式は間違い。\n",
    "\n",
    "なぜなら、この式では例えば$1+1+2$の分割と、1+2+1の分割を別ものとして数えてしまっている。\n",
    "\n",
    "このような重複をなくして数えるために、別の漸化式を作る。\n",
    "\n",
    "nのm分割における分割後の数$a_i$(すべて合計すると$n$になる$m$個の$a_i(\\sum_{i=1}^{m} ai=n)$を考える。\n",
    "\n",
    "すべての$a_i$が$>0$ならば、$\\{a_i - 1\\}$は$n - m$の$n$分割になる。$(\\sum_{i=1}^{m} (ai - 1) = n - m)$\n",
    "\n",
    "また$a_i=0$となる$i$が存在したらその分は分割されていないことと同じなので、$n$の$m-1$分割となる。\n",
    "\n",
    "ここで、$n → j, m → i$に置き換えると\n",
    "\n",
    "$jのi分割dp[i][j]の総数 = j - iのi分割の総数dp[i][j -i] + jのi-1分割の総数dp[i - 1][j]$\n",
    "\n",
    "$$\n",
    "dp[i][j]=\n",
    "    \\begin{cases}\n",
    "        \\begin{aligned}\n",
    "            dp[i][j - i] + dp[i - 1][j] \\qquad &(j - i \\geqq 0 ) \\\\\n",
    "            dp[i - 1][j] \\qquad &それ以外(j - i < 0, 負の数のi分割は存在しない) \\\\\n",
    "        \\end{aligned}\n",
    "    \\end{cases}\n",
    "$$\n",
    "\n",
    "この漸化式ならば重複なく数えることができ、計算量は$O(nm)$となる。\n",
    "\n",
    "このように場合の数の問題では、以下に重複なく数え上げるかの工夫が重要\n"
   ]
  },
  {
   "cell_type": "code",
   "execution_count": 8,
   "metadata": {},
   "outputs": [
    {
     "name": "stdout",
     "output_type": "stream",
     "text": [
      "4\n"
     ]
    }
   ],
   "source": [
    "n = 4\n",
    "m = 3\n",
    "M = 10000\n",
    "MAX_M = 10000\n",
    "MAX_N = 1000\n",
    "\n",
    "dp = [[0]*(MAX_N + 1) for x in range(MAX_M + 1)]\n",
    "\n",
    "\n",
    "def solve():\n",
    "    dp[0][0] = 1\n",
    "    for i in range(1, m + 1):\n",
    "        for j in range(0, n + 1):\n",
    "            if j - i >= 0:\n",
    "                dp[i][j] = (dp[i - 1][j] + dp[i][j - i])\n",
    "            else:\n",
    "                dp[i][j] = dp[i -1][j]\n",
    "\n",
    "    print(dp[m][n] % M)\n",
    "\n",
    "solve()"
   ]
  },
  {
   "cell_type": "markdown",
   "metadata": {},
   "source": [
    "## 重複組合せ\n",
    "\n",
    "n種類の品物があり、i種類目の品物は$a_i$個あります。異なる種類の品物同士は区別できますが、同じ種類の品物同士は区別できません。\n",
    "\n",
    "これらの品物の中からm個選ぶ組み合わせの総数を求め、Mで割った余りを答えなさい。\n",
    "\n",
    "制約\n",
    "$1 \\leqq n \\leqq 1000$\n",
    "\n",
    "$1 \\leqq m \\leqq 1000$\n",
    "\n",
    "$1 \\leqq a_i \\leqq 1000$\n",
    "\n",
    "$2 \\leqq M \\leqq 1000$"
   ]
  },
  {
   "cell_type": "markdown",
   "metadata": {},
   "source": [
    "重複なく数え上げるには、同じ種類の品物を一度に処理すれば良さそう。そこで、定義を次のようにする。\n",
    "\n",
    "$dp[i+1][j] := i種類目までの品物からj個選ぶ組み合わせの総数$\n",
    "\n",
    "i種類目までの品物からj個選ぶというのは、\n",
    "\n",
    "i種類目の品物をk個選ぶと仮定したとき、$i - 1$までの品物から$j - k$個すでに選んでいる状態なので、\n",
    "\n",
    "$dp[i + 1][j] = \\sum_{k=0}^{min(j, a[i])}dp[i][j - k]$\n",
    "\n",
    "という漸化式が成り立つ。$min(j, a[i])$となっているのは、i種類目の品物を選ぶ個数kが$0からa[i]$個までのすべての$dp[i][j - k]$を足し合わせたいが、$j - k < 0$の場合は除外するため。\n",
    "\n",
    "この漸化式は普通に計算すると$O(nm^2)$の計算量になるが、右辺に対して、\n",
    "\n",
    "$\\sum_{k = 0}^{min(j, a[i])} = \\sum_{k = 0}^{min(j - 1, a[i])} dp[i][j - 1 - k] + dp[i][j] - dp[i][j - 1 - a_i]$\n",
    "\n",
    "である。これは、$[j - 1 -k]$の部分は$(j - 1) - k$と捉えることができるからである、\n",
    "つまり、$kが0 ~ min(j, a[i])$の範囲だったのを、$0 ~ min(j - 1, a[i] - 1) (k = -1はそもそも存在しないので無視)$となる\n",
    "そうすると、$\\sum_{k = 0}^{min(j, a[i])} と \\sum_{k = 0}^{min(j - 1, a[i])} dp[i][j - 1 - k]$を比べて、足りないのは$dp[i][j]$の部分\n",
    "そして、$dp[i][j - 1 - a_i]$の部分は重複するので、\n",
    "\n",
    "$dp[i + 1][j] = dp[i + 1][j - 1] + dp[i][j] - dp[i][j - 1 - a_i] $\n",
    "\n",
    "と変形できる。このときの計算量は$O(nm)$。"
   ]
  },
  {
   "cell_type": "markdown",
   "metadata": {},
   "source": [
    "補足:\n",
    "\n",
    "式変形$\\sum_{k = 0}^{min(j, a[i])} = \\sum_{k = 0}^{min(j - 1, a[i])} dp[i][j - 1 - k] + dp[i][j] - dp[i][j - 1 - a_i]$\n",
    "\n",
    "について詳しく見ていくと、\n",
    "\n",
    "右辺の２項目$+ dp[i][j]$と3項目$- dp[i][j - 1 - a_i]$は、以下の表の$ \\sum dp[i][j-k]$と、$\\sum dp[i][j-1-k]$の差分となっている(表の左上と右下)\n",
    "\n",
    "$(min(j, a_i) = a_iのとき)$ \n",
    "\n",
    "| $k$            | | $0$          | $1$          | $2$          | ... | $a_i-2$          | $a_i-1$          | $a_i$            | \n",
    "| -------------- |-| ------------ | ------------ | ------------ | --- | ---------------- | ---------------- | ---------------- | \n",
    "| $dp[i][j-k]$   | | $dp[i][j]$   | $dp[i][j-1]$ | $dp[i][j-2]$ | ... | $dp[i][j-a_i+2]$ | $dp[i][j-a_i+1]$ | $dp[i][j-a_i]$   | \n",
    "| $dp[i][j-1-k]$ | | $dp[i][j-1]$ | $dp[i][j-2]$ | $dp[i][j-3]$ | ... | $dp[i][j-a_i+1]$ | $dp[i][j-a_i]$   | $dp[i][j-1-a_i]$ |\n",
    "\n",
    "ここで、$min(j, a_i) = j$の場合を考えても、 $+ dp[i][j]$の差分は同様であり、\n",
    "\n",
    "もう一方の$- dp[i][j - 1 - a_i]$においては、$[j - 1 - a_i] < 0 (j \\leqq a_i)$となり、成立しないので0通りである。よって上記の式変形ですべて表現できる\n",
    "\n",
    "$\\sum_{k = 0}^{min(j - 1, a[i])} dp[i][j - 1 - k]$の$min(j-1, a_i)$で$j-1$となっているのは、k=jのとき $j - 1 - k < 0$で0通りとなるから。\n",
    "\n",
    "| $k$            | | $0$          | $1$          | $2$          | ... | $j-2$      | $j-1$      | $j$                    | \n",
    "| -------------- |-| ------------ | ------------ | ------------ | --- | ---------- | ---------- | ---------------------- | \n",
    "| $dp[i][j-k]$   | | $dp[i][j]$   | $dp[i][j-1]$ | $dp[i][j-2]$ | ... | $dp[i][2]$ | $dp[i][1]$ | $dp[i][0]$             | \n",
    "| $dp[i][j-1-k]$ | | $dp[i][j-1]$ | $dp[i][j-2]$ | $dp[i][j-3]$ | ... | $dp[i][1]$ | $dp[i][0]$ | $j - 1 - k < 0$のため0 | "
   ]
  },
  {
   "cell_type": "code",
   "execution_count": 1,
   "metadata": {},
   "outputs": [
    {
     "name": "stdout",
     "output_type": "stream",
     "text": [
      "6\n"
     ]
    }
   ],
   "source": [
    "n = 3\n",
    "m = 3\n",
    "a = [1, 2, 3]\n",
    "M = 10000\n",
    "\n",
    "MAX_N = 1000\n",
    "MAX_M = 1000\n",
    "\n",
    "dp = [[0] * (MAX_M + 1) for _ in range(MAX_N + 1)]\n",
    "\n",
    "def solve():\n",
    "    # 一つも選ばない方法は常に１通り\n",
    "    for i in range(0, n + 1):\n",
    "        dp[i][0] = 1\n",
    "    for i in range(n):\n",
    "        for j in range(1, m + 1):\n",
    "            if j - 1 - a[i] >= 0:\n",
    "            # 引き算が含まれる場合には負の数にならないように注意する。\n",
    "                dp[i + 1][j] = (dp[i + 1][j - 1] + dp[i][j] - dp[i][j - 1 - a[i]])\n",
    "            else:\n",
    "                dp[i + 1][j] = (dp[i + 1][j - 1] + dp[i][j])\n",
    "    print(dp[n][m] % M)\n",
    "\n",
    "solve()"
   ]
  }
 ],
 "metadata": {
  "kernelspec": {
   "display_name": "Python 3.10.6 ('.venv': poetry)",
   "language": "python",
   "name": "python3"
  },
  "language_info": {
   "codemirror_mode": {
    "name": "ipython",
    "version": 3
   },
   "file_extension": ".py",
   "mimetype": "text/x-python",
   "name": "python",
   "nbconvert_exporter": "python",
   "pygments_lexer": "ipython3",
   "version": "3.10.6"
  },
  "orig_nbformat": 4,
  "vscode": {
   "interpreter": {
    "hash": "1ae18fc30ac27a76a5700917db9f2d562b0e013a78b53cce0a3f636db8be7146"
   }
  }
 },
 "nbformat": 4,
 "nbformat_minor": 2
}
