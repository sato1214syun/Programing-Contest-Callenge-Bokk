{
 "cells": [
  {
   "attachments": {},
   "cell_type": "markdown",
   "metadata": {},
   "source": [
    "# 3-1 値の検索だけじゃない! \"二分探索\"\n",
    "\n",
    "### ソート列から値を探す\n",
    "<img src=\"images/3-1/2023-04-30-16-42-48.png\" width=\"600\">\n",
    "\n",
    "### 解説\n",
    "\n",
    "長さnの単調非減少な数列とは、昇順にソートされた数字の配列ということ\n",
    "単純な二分探索は以前の章でやったので詳細は割愛\n"
   ]
  },
  {
   "cell_type": "code",
   "execution_count": 4,
   "metadata": {},
   "outputs": [
    {
     "name": "stdout",
     "output_type": "stream",
     "text": [
      "1\n"
     ]
    }
   ],
   "source": [
    "# pythonの場合はbisectを使用できる\n",
    "from bisect import bisect_left\n",
    "\n",
    "\n",
    "def solve(n, a, k):\n",
    "    print(bisect_left(a, k))\n",
    "\n",
    "\n",
    "n = 5\n",
    "a = [2, 3, 3, 5, 6]\n",
    "k = 3\n",
    "\n",
    "solve(n, a, k)"
   ]
  },
  {
   "attachments": {},
   "cell_type": "markdown",
   "metadata": {},
   "source": [
    "### 解を仮定し、可能か判定\n",
    "<img src=\"images/3-1/2023-04-30-17-03-42.png\" width=\"600\">\n",
    "\n",
    "### 解説\n",
    "\n",
    "この問題は"
   ]
  },
  {
   "cell_type": "code",
   "execution_count": 14,
   "metadata": {},
   "outputs": [
    {
     "name": "stdout",
     "output_type": "stream",
     "text": [
      "2.00\n"
     ]
    }
   ],
   "source": [
    "from math import floor\n",
    "\n",
    "\n",
    "def C(x, K, L):\n",
    "    num = 0\n",
    "    for i in range(N):\n",
    "        num += L[i] // x\n",
    "    return num >= K\n",
    "\n",
    "\n",
    "def solve(N, K, L):\n",
    "    lb = 0\n",
    "    ub = 1e5  +1  # 原本の通りfloat(\"inf\")を使うとbl+ubがinfになるため使えない\n",
    "    for _ in range(100):\n",
    "        mid = (lb + ub) / 2\n",
    "        if C(mid, K, L):\n",
    "            lb = mid\n",
    "        else:\n",
    "            ub = mid\n",
    "    print(f\"{floor(ub * 100) / 100:.2f}\")\n",
    "\n",
    "\n",
    "N = 4\n",
    "K = 11\n",
    "L = [8.02, 7.43, 4.57, 5.39]\n",
    "\n",
    "solve(N, K, L)"
   ]
  }
 ],
 "metadata": {
  "kernelspec": {
   "display_name": ".venv",
   "language": "python",
   "name": "python3"
  },
  "language_info": {
   "codemirror_mode": {
    "name": "ipython",
    "version": 3
   },
   "file_extension": ".py",
   "mimetype": "text/x-python",
   "name": "python",
   "nbconvert_exporter": "python",
   "pygments_lexer": "ipython3",
   "version": "3.11.3"
  },
  "orig_nbformat": 4
 },
 "nbformat": 4,
 "nbformat_minor": 2
}
