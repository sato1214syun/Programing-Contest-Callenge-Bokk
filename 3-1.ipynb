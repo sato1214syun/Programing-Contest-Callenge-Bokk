{
 "cells": [
  {
   "attachments": {},
   "cell_type": "markdown",
   "metadata": {},
   "source": [
    "# 3-1 値の検索だけじゃない! \"二分探索\"\n",
    "\n",
    "### ソート列から値を探す\n",
    "<img src=\"images/3-1/2023-04-30-16-42-48.png\" width=\"600\">\n",
    "\n",
    "### 解説\n",
    "\n",
    "長さnの単調非減少な数列とは、昇順にソートされた数字の配列ということ\n",
    "単純な二分探索は以前の章でやったので詳細は割愛\n"
   ]
  },
  {
   "cell_type": "code",
   "execution_count": 1,
   "metadata": {},
   "outputs": [
    {
     "name": "stdout",
     "output_type": "stream",
     "text": [
      "1\n"
     ]
    }
   ],
   "source": [
    "# pythonの場合はbisectを使用できる\n",
    "from bisect import bisect_left\n",
    "\n",
    "\n",
    "def solve(n, a, k):\n",
    "    print(bisect_left(a, k))\n",
    "\n",
    "\n",
    "n = 5\n",
    "a = [2, 3, 3, 5, 6]\n",
    "k = 3\n",
    "\n",
    "solve(n, a, k)"
   ]
  },
  {
   "attachments": {},
   "cell_type": "markdown",
   "metadata": {},
   "source": [
    "### 解を仮定し、可能か判定\n",
    "<img src=\"images/3-1/2023-04-30-17-03-42.png\" width=\"600\">\n",
    "\n",
    "### 解説\n",
    "\n",
    "この問題は"
   ]
  },
  {
   "cell_type": "code",
   "execution_count": 14,
   "metadata": {},
   "outputs": [
    {
     "name": "stdout",
     "output_type": "stream",
     "text": [
      "2.00\n"
     ]
    }
   ],
   "source": [
    "from math import floor\n",
    "\n",
    "\n",
    "def C(x, K, L):\n",
    "    num = 0\n",
    "    for i in range(N):\n",
    "        num += L[i] // x\n",
    "    return num >= K\n",
    "\n",
    "\n",
    "def solve(N, K, L):\n",
    "    lb = 0\n",
    "    ub = 1e5  +1  # 原本の通りfloat(\"inf\")を使うとbl+ubがinfになるため使えない\n",
    "    for _ in range(100):\n",
    "        mid = (lb + ub) / 2\n",
    "        if C(mid, K, L):\n",
    "            lb = mid\n",
    "        else:\n",
    "            ub = mid\n",
    "    print(f\"{floor(ub * 100) / 100:.2f}\")\n",
    "\n",
    "\n",
    "N = 4\n",
    "K = 11\n",
    "L = [8.02, 7.43, 4.57, 5.39]\n",
    "\n",
    "solve(N, K, L)"
   ]
  },
  {
   "attachments": {},
   "cell_type": "markdown",
   "metadata": {},
   "source": [
    "<img src=\"images\\3-1\\2023-05-01-10-39-38.png\" width=\"600\">"
   ]
  },
  {
   "cell_type": "code",
   "execution_count": null,
   "metadata": {},
   "outputs": [],
   "source": [
    "def C(d, N, M):\n",
    "    # 条件を満たすか判定\n",
    "    # d: 間隔, N: 牛舎の数, M: 牛の数\n",
    "    last = 0  # 最後に牛を配置した牛舎の番号\n",
    "    for _ in range(1, M):\n",
    "        crt = last + 1  # crt: 次に牛を配置したいの牛舎の番号\n",
    "\n",
    "        # 最後(N個目)の牛舎まで確認。\n",
    "        # 現在注目している牛舎と前回牛を配置すると決めた牛舎の距離がd以上になるまで続行。\n",
    "        while (crt < N) and (x[crt] - x[last] < d):\n",
    "            crt += 1  # 次の牛舎について調べる\n",
    "        if crt == N:  # 最後まで調べても現在の間隔d以上になる牛舎がない場合\n",
    "            return False\n",
    "        # d以上離れている宮社が見つかった場合、現在のcrtをlastに置き換える\n",
    "        last = crt\n",
    "    return True\n",
    "\n",
    "\n",
    "def solve(N, M, x):\n",
    "    x.sort()  # 何はともあれソート\n",
    "\n",
    "    # 解の存在範囲を初期化\n",
    "    lb, ub = 0, int(1e9 + 1)\n",
    "\n",
    "    while ub - lb > 1:\n",
    "        mid = int((lb + ub) / 2)\n",
    "        if C(mid, N, M):  # 現在のmidの間隔で、牛が配置できるか判定\n",
    "            lb = mid  # Trueなのでlower bound(間隔の下限値)をmidにする\n",
    "        else:\n",
    "            ub = mid  # Falseなのでupper bound(間隔の上限値→解にならない値)をmidに更新する\n",
    "\n",
    "    print(lb)  # lower boundが牛の初期を広げられる最大値\n",
    "\n",
    "\n",
    "N = 5\n",
    "M = 3\n",
    "x = [1, 2, 8, 4, 9]\n",
    "\n",
    "solve(N, M, x)"
   ]
  },
  {
   "attachments": {},
   "cell_type": "markdown",
   "metadata": {},
   "source": [
    "<img src=\"images\\3-1\\2023-05-01-11-12-31.png\" width=\"600\">\n",
    "<img src=\"images\\3-1\\2023-05-01-11-12-47.png\" width=\"600\">"
   ]
  },
  {
   "cell_type": "code",
   "execution_count": null,
   "metadata": {},
   "outputs": [],
   "source": [
    "def C(x, n, k, w, v):\n",
    "    # 条件の判定\n",
    "\n",
    "    # 判定用の数値を計算して降順にソート\n",
    "    y = sorted([v[i] - x * w[i] for i in range(n)], reverse=True)\n",
    "\n",
    "    # yの大きいほうからk個選んだ時の和を計算\n",
    "    total = sum(y[:k])\n",
    "    return total >= 0\n",
    "\n",
    "def solve(n, k, w, v):\n",
    "    # 解の存在範囲を初期化\n",
    "    lb, ub = 0, 1e6 + 1\n",
    "\n",
    "    for _ in range(100):\n",
    "        mid = (lb + ub) / 2\n",
    "        if C(mid, n, k, w, v):  # 現在の単位価値設定midを上回る品物の選び方があるかの判定\n",
    "            lb = mid  # Trueなのでlower bound(下限値)をmidにする\n",
    "        else:\n",
    "            ub = mid  # Falseなのでupper bound(上限値)をmidにする\n",
    "\n",
    "    print(f\"{ub:.2f}\")\n",
    "\n",
    "\n",
    "n = 3\n",
    "k = 2\n",
    "w = [2, 5, 2]\n",
    "v = [2, 3, 1]\n",
    "solve(n, k, w, v)"
   ]
  }
 ],
 "metadata": {
  "kernelspec": {
   "display_name": ".venv",
   "language": "python",
   "name": "python3"
  },
  "language_info": {
   "codemirror_mode": {
    "name": "ipython",
    "version": 3
   },
   "file_extension": ".py",
   "mimetype": "text/x-python",
   "name": "python",
   "nbconvert_exporter": "python",
   "pygments_lexer": "ipython3",
   "version": "3.11.3"
  },
  "orig_nbformat": 4
 },
 "nbformat": 4,
 "nbformat_minor": 2
}
