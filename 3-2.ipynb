{
 "cells": [
  {
   "attachments": {},
   "cell_type": "markdown",
   "metadata": {},
   "source": [
    "# 3-2 厳選! 頻出テクニック(1)\n",
    "\n",
    "### しゃくとり法\n",
    "\n",
    "<img src=\"images\\3-2\\2023-05-03-16-29-47.png\" width=\"600\">\n",
    "\n",
    "### 解説\n",
    "\n",
    "要素がすべて正の数なので、ある部分列(s, t) = $a_s...a_t\\geqq S$であるならば、$t<t'$に対しても$a_s...a_{t'}\\geqq S$"
   ]
  },
  {
   "cell_type": "code",
   "execution_count": 5,
   "metadata": {},
   "outputs": [
    {
     "name": "stdout",
     "output_type": "stream",
     "text": [
      "2\n"
     ]
    }
   ],
   "source": [
    "# sum[t]を探すときに二分探索を用いる方法\n",
    "from bisect import bisect_right\n",
    "\n",
    "def solve(n, S, a):\n",
    "    # a_0 ~ a_iのsumをあらかじめ計算しておくと計算量が節約できる\n",
    "    sum_result = [0]\n",
    "    for i in range(n):\n",
    "        sum_result.append(sum_result[i] + a[i])\n",
    "\n",
    "    if sum_result[n] < S:\n",
    "        # 解が存在しない\n",
    "        print(0)\n",
    "        return\n",
    "\n",
    "    res = n\n",
    "    for s, sum_s in enumerate(sum_result):\n",
    "        if  S + sum_s > sum_result[-1]:\n",
    "            break\n",
    "        t = bisect_right(sum_result, S + sum_s)\n",
    "        res = min(res, t - s)\n",
    "    print(res)\n",
    "\n",
    "\n",
    "# 入力\n",
    "\n",
    "n = 10\n",
    "S = 15\n",
    "a = [5, 1, 3, 5, 10, 7, 4, 9, 2, 8]\n",
    "\"\"\"\n",
    "n = 5\n",
    "S = 11\n",
    "a = [1, 2, 3, 4, 5]\n",
    "\"\"\"\n",
    "\n",
    "solve(n, S, a)"
   ]
  },
  {
   "cell_type": "code",
   "execution_count": 17,
   "metadata": {},
   "outputs": [
    {
     "name": "stdout",
     "output_type": "stream",
     "text": [
      "2\n"
     ]
    }
   ],
   "source": [
    "# しゃくとり法\n",
    "def solve(n, S, a):\n",
    "    res = n + 1\n",
    "    s = 0\n",
    "    sum_result = 0\n",
    "    for t in range(n):\n",
    "        # 配列を順に足していく\n",
    "        sum_result += a[t]\n",
    "        while sum_result >= S:\n",
    "            # 合計がSを超えていたら resを更新\n",
    "            res = min(res, t - s + 1)\n",
    "            # 部分列の幅を合計がS未満になるまで後ろから狭めていく\n",
    "            sum_result -= a[s]\n",
    "            s += 1\n",
    "    \n",
    "    # resが初期値から変化なければ、解なしとして0を表示\n",
    "    if res > n:\n",
    "        res = 0\n",
    "    print(res)\n",
    "\n",
    "\n",
    "# 入力\n",
    "n = 10\n",
    "S = 15\n",
    "a = [5, 1, 3, 5, 10, 7, 4, 9, 2, 8]\n",
    "\"\"\"\n",
    "n = 5\n",
    "S = 11\n",
    "a = [1, 2, 3, 4, 5]\n",
    "\"\"\"\n",
    "\n",
    "\n",
    "solve(n, S, a)"
   ]
  },
  {
   "attachments": {},
   "cell_type": "markdown",
   "metadata": {},
   "source": [
    "### Jessica's Reading Problem (POJ No. 3320)\n",
    "<img src=\"images\\3-2\\2023-05-03-21-45-00.png\" width=\"600\">\n",
    "\n",
    "### 解説"
   ]
  }
 ],
 "metadata": {
  "kernelspec": {
   "display_name": ".venv",
   "language": "python",
   "name": "python3"
  },
  "language_info": {
   "codemirror_mode": {
    "name": "ipython",
    "version": 3
   },
   "file_extension": ".py",
   "mimetype": "text/x-python",
   "name": "python",
   "nbconvert_exporter": "python",
   "pygments_lexer": "ipython3",
   "version": "3.11.3"
  },
  "orig_nbformat": 4
 },
 "nbformat": 4,
 "nbformat_minor": 2
}
