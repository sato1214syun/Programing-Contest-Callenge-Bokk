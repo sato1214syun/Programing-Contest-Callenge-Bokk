{
 "cells": [
  {
   "attachments": {},
   "cell_type": "markdown",
   "metadata": {},
   "source": [
    "# 3-2 厳選! 頻出テクニック(1)\n",
    "\n",
    "### しゃくとり法\n",
    "\n",
    "<img src=\"images\\3-2\\2023-05-03-16-29-47.png\" width=\"800\">\n",
    "\n",
    "### 解説\n",
    "\n",
    "要素がすべて正の数なので、ある部分列(s, t) = $a_s...a_t\\geqq S$であるならば、$t<t'$に対しても$a_s...a_{t'}\\geqq S$"
   ]
  },
  {
   "cell_type": "code",
   "execution_count": 5,
   "metadata": {},
   "outputs": [
    {
     "name": "stdout",
     "output_type": "stream",
     "text": [
      "2\n"
     ]
    }
   ],
   "source": [
    "# sum[t]を探すときに二分探索を用いる方法\n",
    "from bisect import bisect_right\n",
    "\n",
    "\n",
    "def solve(n, S, a):\n",
    "    # a_0 ~ a_iのsumをあらかじめ計算しておくと計算量が節約できる\n",
    "    sum_result = [0]\n",
    "    for i in range(n):\n",
    "        sum_result.append(sum_result[i] + a[i])\n",
    "\n",
    "    if sum_result[n] < S:\n",
    "        # 解が存在しない\n",
    "        print(0)\n",
    "        return\n",
    "\n",
    "    res = n\n",
    "    for s, sum_s in enumerate(sum_result):\n",
    "        if S + sum_s > sum_result[-1]:\n",
    "            break\n",
    "        t = bisect_right(sum_result, S + sum_s)\n",
    "        res = min(res, t - s)\n",
    "    print(res)\n",
    "\n",
    "\n",
    "# 入力\n",
    "\n",
    "n = 10\n",
    "S = 15\n",
    "a = [5, 1, 3, 5, 10, 7, 4, 9, 2, 8]\n",
    "\"\"\"\n",
    "n = 5\n",
    "S = 11\n",
    "a = [1, 2, 3, 4, 5]\n",
    "\"\"\"\n",
    "\n",
    "solve(n, S, a)"
   ]
  },
  {
   "cell_type": "code",
   "execution_count": 17,
   "metadata": {},
   "outputs": [
    {
     "name": "stdout",
     "output_type": "stream",
     "text": [
      "2\n"
     ]
    }
   ],
   "source": [
    "# しゃくとり法\n",
    "def solve(n, S, a):\n",
    "    res = n + 1\n",
    "    s = 0\n",
    "    sum_result = 0\n",
    "    for t in range(n):\n",
    "        # 配列を順に足していく\n",
    "        sum_result += a[t]\n",
    "        while sum_result >= S:\n",
    "            # 合計がSを超えていたら resを更新\n",
    "            res = min(res, t - s + 1)\n",
    "            # 部分列の幅を合計がS未満になるまで後ろから狭めていく\n",
    "            sum_result -= a[s]\n",
    "            s += 1\n",
    "\n",
    "    # resが初期値から変化なければ、解なしとして0を表示\n",
    "    if res > n:\n",
    "        res = 0\n",
    "    print(res)\n",
    "\n",
    "\n",
    "# 入力\n",
    "n = 10\n",
    "S = 15\n",
    "a = [5, 1, 3, 5, 10, 7, 4, 9, 2, 8]\n",
    "\"\"\"\n",
    "n = 5\n",
    "S = 11\n",
    "a = [1, 2, 3, 4, 5]\n",
    "\"\"\"\n",
    "\n",
    "\n",
    "solve(n, S, a)"
   ]
  },
  {
   "attachments": {},
   "cell_type": "markdown",
   "metadata": {},
   "source": [
    "### Jessica's Reading Problem (POJ No. 3320)\n",
    "<img src=\"images\\3-2\\2023-05-03-21-45-00.png\" width=\"800\">\n",
    "\n",
    "### 解説\n",
    "\n",
    "ページを読む範囲start-endでの項目の出現回数を数える。全項目が1回以上出現している場合は範囲を調整するということを行えば二分探索で解くことができる。\n",
    "\n",
    "出現回数のカウントは辞書で行う。pythonではdefaultdict(int)で辞書の初期値を0と設定するとやりやすい。"
   ]
  },
  {
   "cell_type": "code",
   "execution_count": 4,
   "metadata": {},
   "outputs": [
    {
     "name": "stdout",
     "output_type": "stream",
     "text": [
      "2\n"
     ]
    }
   ],
   "source": [
    "from collections import defaultdict\n",
    "\n",
    "\n",
    "def solve(P, a):\n",
    "    n = len(set(a))  # 書かれている項目の総種類数\n",
    "\n",
    "    start = 0  # 読むのを始めるページ\n",
    "    end = 0  # 読むのを終わるページ\n",
    "    num = 0  # start-end間に含まれる項目数\n",
    "\n",
    "    count = defaultdict(int)  # 項目の出現回数のカウント用。defaultdict(int)でキーが増えた時の初期値を0に設定している\n",
    "    res = len(a) + 1\n",
    "    for end in range(P):\n",
    "        count[a[end]] += 1\n",
    "        if count[a[end]] == 1:\n",
    "            num += 1\n",
    "\n",
    "        # start-endで全項目カバーできている間はループする\n",
    "        while num == n:\n",
    "            # 現時点での解(ページ数)を更新\n",
    "            res = min(res, end - start + 1)\n",
    "            # start位置を次に進めて範囲を絞っていく\n",
    "            count[a[start]] -= 1  # カウントを減らす\n",
    "            if count[a[start]] == 0:\n",
    "                num -= 1\n",
    "            start += 1\n",
    "\n",
    "    if res > n:\n",
    "        res = 0\n",
    "    print(res)\n",
    "    return\n",
    "\n",
    "\n",
    "# 入力\n",
    "P = 5\n",
    "a = [1, 8, 8, 8, 1]\n",
    "\n",
    "solve(P, a)"
   ]
  },
  {
   "attachments": {},
   "cell_type": "markdown",
   "metadata": {},
   "source": [
    "### 反転\n",
    "\n",
    "<img src=\"images\\3-2\\2023-05-05-16-00-01.png\" width=\"800\">"
   ]
  },
  {
   "cell_type": "code",
   "execution_count": 1,
   "metadata": {},
   "outputs": [
    {
     "ename": "IndexError",
     "evalue": "list index out of range",
     "output_type": "error",
     "traceback": [
      "\u001b[1;31m---------------------------------------------------------------------------\u001b[0m",
      "\u001b[1;31mIndexError\u001b[0m                                Traceback (most recent call last)",
      "Cell \u001b[1;32mIn[1], line 41\u001b[0m\n\u001b[0;32m     38\u001b[0m N \u001b[39m=\u001b[39m \u001b[39m7\u001b[39m\n\u001b[0;32m     39\u001b[0m A \u001b[39m=\u001b[39m [\u001b[39m\"\u001b[39m\u001b[39mBBFBFBB\u001b[39m\u001b[39m\"\u001b[39m]\n\u001b[1;32m---> 41\u001b[0m solve(N, A)\n",
      "Cell \u001b[1;32mIn[1], line 29\u001b[0m, in \u001b[0;36msolve\u001b[1;34m(N, A)\u001b[0m\n\u001b[0;32m     27\u001b[0m \u001b[39m# すべてのKを調査\u001b[39;00m\n\u001b[0;32m     28\u001b[0m \u001b[39mfor\u001b[39;00m K \u001b[39min\u001b[39;00m \u001b[39mrange\u001b[39m(\u001b[39m1\u001b[39m, N \u001b[39m+\u001b[39m \u001b[39m1\u001b[39m):\n\u001b[1;32m---> 29\u001b[0m     M \u001b[39m=\u001b[39m calc(K, direction)\n\u001b[0;32m     31\u001b[0m \u001b[39mif\u001b[39;00m M \u001b[39m>\u001b[39m\u001b[39m=\u001b[39m \u001b[39m0\u001b[39m \u001b[39mand\u001b[39;00m ans_m \u001b[39m>\u001b[39m M:\n\u001b[0;32m     32\u001b[0m     ans_k, ans_m \u001b[39m=\u001b[39m K, M\n",
      "Cell \u001b[1;32mIn[1], line 7\u001b[0m, in \u001b[0;36mcalc\u001b[1;34m(K, direction)\u001b[0m\n\u001b[0;32m      4\u001b[0m SUM \u001b[39m=\u001b[39m \u001b[39m0\u001b[39m    \u001b[39m# fの和\u001b[39;00m\n\u001b[0;32m      5\u001b[0m \u001b[39mfor\u001b[39;00m i \u001b[39min\u001b[39;00m \u001b[39mrange\u001b[39m(N \u001b[39m-\u001b[39m K \u001b[39m+\u001b[39m \u001b[39m1\u001b[39m):\n\u001b[0;32m      6\u001b[0m     \u001b[39m# 区間[i,i+K-1]に着目\u001b[39;00m\n\u001b[1;32m----> 7\u001b[0m     \u001b[39mif\u001b[39;00m (direction[i] \u001b[39m+\u001b[39m SUM) \u001b[39m%\u001b[39m \u001b[39m2\u001b[39m \u001b[39m!=\u001b[39m \u001b[39m0\u001b[39m:\n\u001b[0;32m      8\u001b[0m         \u001b[39m# 先頭の牛が後ろを向いている\u001b[39;00m\n\u001b[0;32m      9\u001b[0m         res \u001b[39m+\u001b[39m\u001b[39m=\u001b[39m \u001b[39m1\u001b[39m\n\u001b[0;32m     10\u001b[0m         f[i] \u001b[39m=\u001b[39m \u001b[39m1\u001b[39m\n",
      "\u001b[1;31mIndexError\u001b[0m: list index out of range"
     ]
    }
   ],
   "source": [
    "def calc(K, direction):\n",
    "    f = [0] * len(direction)    # 区間[i,i+K-1]を反転させたかどうか\n",
    "    res = 0\n",
    "    SUM = 0    # fの和\n",
    "    for i in range(N - K + 1):\n",
    "        # 区間[i,i+K-1]に着目\n",
    "        if (direction[i] + SUM) % 2 != 0:\n",
    "            # 先頭の牛が後ろを向いている\n",
    "            res += 1\n",
    "            f[i] = 1\n",
    "        SUM += f[i]\n",
    "        if i - K + 1 >= 0:\n",
    "            SUM -= f[i - K + 1]\n",
    "    \n",
    "    # 残りの牛が前を向いているかをチェック\n",
    "    for i in range(N - K + 1, N):\n",
    "        if (direction[i] + SUM) % 2 != 0:\n",
    "            # 解なし\n",
    "            return -1\n",
    "        if i - K + 1 >= 0:\n",
    "            SUM -= f[i - K + 1]\n",
    "    return res\n",
    "\n",
    "\n",
    "def solve(N, A):\n",
    "    direction = [c == \"B\" for c in A]  # 牛の向きをboolに変換\n",
    "    # すべてのKを調査\n",
    "    for K in range(1, N + 1):\n",
    "        M = calc(K, direction)\n",
    "    \n",
    "    if M >= 0 and ans_m > M:\n",
    "        ans_k, ans_m = K, M\n",
    "\n",
    "    print(ans_k, ans_m)\n",
    "\n",
    "\n",
    "# 入力\n",
    "N = 7\n",
    "A = [\"BBFBFBB\"]\n",
    "\n",
    "solve(N, A)"
   ]
  }
 ],
 "metadata": {
  "kernelspec": {
   "display_name": ".venv",
   "language": "python",
   "name": "python3"
  },
  "language_info": {
   "codemirror_mode": {
    "name": "ipython",
    "version": 3
   },
   "file_extension": ".py",
   "mimetype": "text/x-python",
   "name": "python",
   "nbconvert_exporter": "python",
   "pygments_lexer": "ipython3",
   "version": "3.11.3"
  },
  "orig_nbformat": 4
 },
 "nbformat": 4,
 "nbformat_minor": 2
}
