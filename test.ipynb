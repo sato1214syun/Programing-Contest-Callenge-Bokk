{
 "cells": [
  {
   "cell_type": "markdown",
   "metadata": {},
   "source": [
    "# 1"
   ]
  },
  {
   "cell_type": "markdown",
   "metadata": {},
   "source": [
    "## 1-1"
   ]
  },
  {
   "cell_type": "code",
   "execution_count": 46,
   "metadata": {},
   "outputs": [],
   "source": [
    "import random\n",
    "ramdom_int_list = [random.randint(1,1000) for _ in range(1000)]\n",
    "#print(ramdom_int_list)"
   ]
  },
  {
   "cell_type": "code",
   "execution_count": 47,
   "metadata": {},
   "outputs": [
    {
     "name": "stdout",
     "output_type": "stream",
     "text": [
      "yes, [795, 795, 79, 331]\n"
     ]
    }
   ],
   "source": [
    "# くじ引き\n",
    "from itertools import product\n",
    "\n",
    "# n = 3\n",
    "# m = 10\n",
    "# k = [1, 3, 5]\n",
    "# n = 3\n",
    "# m = 9\n",
    "# k = [1, 3, 5]\n",
    "n = 100000\n",
    "m = 2000\n",
    "k = ramdom_int_list\n",
    "\n",
    "is_answer_exist = False\n",
    "p = False\n",
    "for a in k:\n",
    "    for b in k:\n",
    "        for c in k:\n",
    "            for d in k:\n",
    "                if a + b + c + d == m:\n",
    "                    is_answer_exist = True\n",
    "                    p = [a, b, c, d]\n",
    "                    break\n",
    "            if is_answer_exist:\n",
    "                break\n",
    "        if is_answer_exist:\n",
    "                break\n",
    "    if is_answer_exist:\n",
    "                break\n",
    "\n",
    "if is_answer_exist:\n",
    "    print(f\"yes, {p}\")\n",
    "else:\n",
    "    print(f\"no\")\n"
   ]
  },
  {
   "cell_type": "markdown",
   "metadata": {},
   "source": [
    "## 1-6"
   ]
  },
  {
   "cell_type": "code",
   "execution_count": null,
   "metadata": {},
   "outputs": [],
   "source": [
    "# 三角形\n",
    "from itertools import combinations\n",
    "\n",
    "# n = 5\n",
    "# a = [2, 3, 4, 5, 10]\n",
    "\n",
    "n = 4\n",
    "a = [4, 5, 10, 20]\n",
    "# |a−b|<c<a+b\n",
    "\n",
    "comb_iter = combinations(a, 3)\n",
    "max_length = 0\n",
    "answer = False\n",
    "for comb in comb_iter:\n",
    "    if abs(comb[0] - comb[1]) < comb[2] and comb[2] < (comb[0] + comb[1]):\n",
    "        if max_length < sum(comb):\n",
    "            max_length = sum(comb)\n",
    "            answer = comb\n",
    "print(max_length, answer)\n"
   ]
  },
  {
   "cell_type": "code",
   "execution_count": null,
   "metadata": {},
   "outputs": [],
   "source": [
    "# POJの問題#1852 \"Ants\"\n",
    "L = 10\n",
    "n = 3\n",
    "x = [2, 6, 7]\n",
    "\n",
    "min_list = [min(x_ele, L - x_ele) for x_ele in x]\n",
    "min_time = max(min_list)\n",
    "max_list = [max(x_ele, L - x_ele) for x_ele in x]\n",
    "max_time = max(max_list)\n",
    "\n",
    "print(f\"最小{min_time}sec、最大{max_time}sec\")\n"
   ]
  },
  {
   "cell_type": "code",
   "execution_count": 48,
   "metadata": {},
   "outputs": [
    {
     "name": "stdout",
     "output_type": "stream",
     "text": [
      "yes, [795, 795, 79, 331]\n"
     ]
    }
   ],
   "source": [
    "# くじびき N^3*logN\n",
    "from itertools import product\n",
    "from bisect import bisect_left\n",
    "# n = 3\n",
    "# m = 10\n",
    "# k = [1, 3, 5]\n",
    "# n = 3\n",
    "# m = 9\n",
    "# k = [1, 3, 5]\n",
    "n = 100000\n",
    "m = 2000\n",
    "k = ramdom_int_list\n",
    "k2 = sorted(ramdom_int_list)\n",
    "\n",
    "def find_value(a, x):\n",
    "    'Locate the leftmost value exactly equal to x'\n",
    "    i = bisect_left(a, x)\n",
    "    if i != len(a) and a[i] == x:\n",
    "        return x\n",
    "    else:\n",
    "        return\n",
    "\n",
    "is_answer_exist = False\n",
    "p = False\n",
    "for a in k:\n",
    "    for b in k:\n",
    "        for c in k:\n",
    "            if d := find_value(k2, m - a - b - c):\n",
    "                is_answer_exist = True\n",
    "                p = [a, b, c, d]\n",
    "                break\n",
    "            if is_answer_exist:\n",
    "                break\n",
    "        if is_answer_exist:\n",
    "                break\n",
    "    if is_answer_exist:\n",
    "                break\n",
    "\n",
    "if is_answer_exist:\n",
    "    print(f\"yes, {p}\")\n",
    "else:\n",
    "    print(f\"no\")"
   ]
  },
  {
   "cell_type": "code",
   "execution_count": 49,
   "metadata": {},
   "outputs": [
    {
     "name": "stdout",
     "output_type": "stream",
     "text": [
      "yes, [795, 795, 410]\n"
     ]
    }
   ],
   "source": [
    "# くじびき N^2*logN\n",
    "from itertools import product\n",
    "from bisect import bisect_left\n",
    "# n = 3\n",
    "# m = 10\n",
    "# k = [1, 3, 5]\n",
    "# n = 3\n",
    "# m = 9\n",
    "# k = [1, 3, 5]\n",
    "n = 100000\n",
    "m = 2000\n",
    "k = ramdom_int_list\n",
    "\n",
    "def find_value(a, x):\n",
    "    'Locate the leftmost value exactly equal to x'\n",
    "    i = bisect_left(a, x)\n",
    "    if i != len(a) and a[i] == x:\n",
    "        return x\n",
    "    else:\n",
    "        return\n",
    "\n",
    "# c + dの値を総当たりのリスト\n",
    "cd_sum_list = list(set(sorted([c + d for c, d in  product(k, repeat=2)])))\n",
    "\n",
    "is_answer_exist = False\n",
    "p = False\n",
    "for a in k:\n",
    "    for b in k:\n",
    "        if cd_sum := find_value(cd_sum_list, m - a - b):\n",
    "            is_answer_exist = True\n",
    "            p = [a, b, cd_sum]\n",
    "            break\n",
    "    if is_answer_exist:\n",
    "                break\n",
    "\n",
    "if is_answer_exist:\n",
    "    print(f\"yes, {p}\")\n",
    "else:\n",
    "    print(f\"no\")"
   ]
  },
  {
   "cell_type": "markdown",
   "metadata": {},
   "source": [
    "# 2\n",
    "## 2-1"
   ]
  },
  {
   "cell_type": "markdown",
   "metadata": {},
   "source": [
    "### フィボナッチ数列"
   ]
  },
  {
   "cell_type": "code",
   "execution_count": 2,
   "metadata": {},
   "outputs": [
    {
     "data": {
      "text/plain": [
       "102334155"
      ]
     },
     "execution_count": 2,
     "metadata": {},
     "output_type": "execute_result"
    }
   ],
   "source": [
    "# フィボナッチ数列\n",
    "a0 = 0\n",
    "a1 = 1\n",
    "\n",
    "def fib(n):\n",
    "    if n <= 1:\n",
    "        return n\n",
    "    return fib(n -1) + fib(n - 2)\n",
    "\n",
    "fib(40)"
   ]
  },
  {
   "cell_type": "markdown",
   "metadata": {},
   "source": [
    "### フィボナッチ数列のメモ探索"
   ]
  },
  {
   "cell_type": "code",
   "execution_count": 5,
   "metadata": {},
   "outputs": [
    {
     "data": {
      "text/plain": [
       "102334155"
      ]
     },
     "execution_count": 5,
     "metadata": {},
     "output_type": "execute_result"
    }
   ],
   "source": [
    "\n",
    "memo_list = {}\n",
    "\n",
    "def fib(n):\n",
    "    if n <= 1:\n",
    "        return n\n",
    "    if (result := memo_list.get(n)) is not None:\n",
    "        return result\n",
    "    memo_list[n] = fib(n -1) + fib(n - 2)\n",
    "    return memo_list[n]\n",
    "\n",
    "fib(40)"
   ]
  },
  {
   "cell_type": "markdown",
   "metadata": {},
   "source": [
    "### 深さ優先探索(DFS)"
   ]
  },
  {
   "cell_type": "markdown",
   "metadata": {},
   "source": [
    "#### 部分和問題"
   ]
  },
  {
   "cell_type": "code",
   "execution_count": 4,
   "metadata": {},
   "outputs": [
    {
     "name": "stdout",
     "output_type": "stream",
     "text": [
      "Yes\n",
      "\n"
     ]
    }
   ],
   "source": [
    "n = 4\n",
    "a = [1, 2, 4, 7]\n",
    "k = 13\n",
    "# k = 15\n",
    "\n",
    "def dfs(i, sum):\n",
    "    # iがn=4の場合、つまり探索の終端に来た場合に値をチェック\n",
    "    if i == n:\n",
    "        return sum == k\n",
    "\n",
    "    # 以下の二つのif文で現在の節から分岐する。\n",
    "    # 1つ目のifは左の分岐、2つ目のifは右の分岐\n",
    "\n",
    "    # a[i]から選ばない場合の処理\n",
    "    # 再帰関数により、終端(10行目のif文)でFalseとなった場合は1つ前の節に戻る\n",
    "    if (dfs(i + 1, sum)):\n",
    "        return True\n",
    "\n",
    "    # a[i]から選ぶ処理\n",
    "    # 再帰関数により、終端(10行目のif文)でFalseとなった場合は1つ前の節に戻り、\n",
    "    # その節の戻り値も27行目で必ずFalseとなるので実質2つ前の節に戻ることになる。\n",
    "    if (dfs(i + 1, sum + a[i])):\n",
    "        return True\n",
    "\n",
    "    return False\n",
    "\n",
    "if dfs(0, 0):\n",
    "    print(\"Yes\\n\")\n",
    "else:\n",
    "    print(\"No\\n\")"
   ]
  },
  {
   "cell_type": "markdown",
   "metadata": {},
   "source": [
    "#### Lake Counting (POJ No.2386)"
   ]
  },
  {
   "cell_type": "code",
   "execution_count": 5,
   "metadata": {},
   "outputs": [
    {
     "name": "stdout",
     "output_type": "stream",
     "text": [
      "3\n"
     ]
    }
   ],
   "source": [
    "N = 10\n",
    "W = 12\n",
    "\n",
    "temp_field = (\n",
    "    \"\"\"W........WW.\n",
    ".WWW.....WWW\n",
    "....WW...WW.\n",
    ".........WW.\n",
    ".........W..\n",
    "..W......W..\n",
    ".W.W.....WW.\n",
    "W.W.W.....W.\n",
    ".W.W......W.\n",
    "..W.......W.\"\"\"\n",
    ")\n",
    "\n",
    "field = []\n",
    "for row_str in temp_field.split(\"\\n\"):\n",
    "    field.append([char for char in row_str])\n",
    "\n",
    "\n",
    "def dfs(x, y):\n",
    "    # 現在位置を\".\"に置き換える\n",
    "    field[x][y] = \".\"\n",
    "\n",
    "    for dx in range(-1, 2):\n",
    "        for dy in range(-1, 2):\n",
    "            nx = x + dx\n",
    "            ny = y + dy\n",
    "            \n",
    "            if 0 <= nx < len(field) and 0 <= ny < len(field[0]) and field[nx][ny] == \"W\":\n",
    "                dfs(nx, ny)\n",
    "    return\n",
    "\n",
    "res = 0\n",
    "for i in range(0, len(field)):\n",
    "    for j in range(0, len(field[0])):\n",
    "        if field[i][j] == \"W\":\n",
    "            dfs(i, j)\n",
    "            res += 1\n",
    "\n",
    "print(res)\n",
    "\n"
   ]
  },
  {
   "cell_type": "markdown",
   "metadata": {},
   "source": [
    "### 幅優先探索(BFS)"
   ]
  },
  {
   "cell_type": "markdown",
   "metadata": {},
   "source": [
    "#### 迷路の最短路"
   ]
  },
  {
   "cell_type": "code",
   "execution_count": 3,
   "metadata": {},
   "outputs": [
    {
     "name": "stdout",
     "output_type": "stream",
     "text": [
      "22\n"
     ]
    }
   ],
   "source": [
    "temp_maze = (\n",
    "    \"\"\"#S######.#\n",
    "......#..#\n",
    ".#.##.##.#\n",
    ".#........\n",
    "##.##.####\n",
    "....#....#\n",
    ".#######.#\n",
    "....#.....\n",
    ".####.###.\n",
    "....#...G#\"\"\"\n",
    ")\n",
    "\n",
    "maze = []\n",
    "for row_str in temp_maze.split(\"\\n\"):\n",
    "    maze.append([char for char in row_str])\n",
    "\n",
    "N = 10\n",
    "M = 10\n",
    "# これ以上の距離になる場合は停止\n",
    "INF = 10000000000\n",
    "# スタート位置\n",
    "sx: int = 1\n",
    "sy: int = 0\n",
    "# ゴール位置\n",
    "gx: int = 8\n",
    "gy: int = 9\n",
    "# 各地点までの最短処理の配列\n",
    "d = []\n",
    "# 移動4方向のベクトルを定義\n",
    "dx = [1, 0, -1, 0]\n",
    "dy = [0, 1, 0, -1]\n",
    "p: tuple[int, int] \n",
    "\n",
    "from queue import Queue\n",
    "def bfs():\n",
    "    que = Queue()\n",
    "    # すべての点の距離をINFで初期化\n",
    "    for i in range(0, N):\n",
    "        d.append([])\n",
    "        for j in range(0, M):\n",
    "            d[i].append(INF)\n",
    "    # スタート地点をキューに入れて、距離を０に設定\n",
    "\n",
    "    que.put((sy, sx))\n",
    "    d[sy][sx] = 0\n",
    "\n",
    "    # キューが空になるまでループ\n",
    "    while not que.empty():\n",
    "        # キューの先頭を取り出す\n",
    "        p = que.get()\n",
    "        # 取り出した状態がゴールなら探索を終了\n",
    "        if p == (gy, gx):\n",
    "            break\n",
    "        # 移動４方向をループ\n",
    "        for i in range(0, 4):\n",
    "            # nx, nyは移動後の位置\n",
    "            ny, nx = p[0] + dy[i], p[1] + dx[i]\n",
    "            # 移動が可能かの判定と、すでに訪れたことがあるかの判定(d[ny][nx] == INFの時は訪れたことがない)\n",
    "            if 0 <= nx < N and 0 <= ny < M and maze[ny][nx] != \"#\" and d[ny][nx] == INF:\n",
    "                # 移動可能な場合はキューに入れ、その点の距離をpからの距離+1で確定する。 \n",
    "                que.put((ny, nx))\n",
    "                d[ny][nx] = d[p[0]][p[1]] + 1\n",
    "    return d[gy][gx]\n",
    "\n",
    "res = bfs()\n",
    "print(f\"{str(res)}\")\n",
    "\n"
   ]
  },
  {
   "cell_type": "code",
   "execution_count": null,
   "metadata": {},
   "outputs": [],
   "source": []
  }
 ],
 "metadata": {
  "interpreter": {
   "hash": "380dec80cb7512c0d9d675badb4af99047a8d22526580966454b72e4663db06f"
  },
  "kernelspec": {
   "display_name": "Python 3.10.4 ('.venv': poetry)",
   "language": "python",
   "name": "python3"
  },
  "language_info": {
   "codemirror_mode": {
    "name": "ipython",
    "version": 3
   },
   "file_extension": ".py",
   "mimetype": "text/x-python",
   "name": "python",
   "nbconvert_exporter": "python",
   "pygments_lexer": "ipython3",
   "version": "3.10.2"
  },
  "orig_nbformat": 4
 },
 "nbformat": 4,
 "nbformat_minor": 2
}
